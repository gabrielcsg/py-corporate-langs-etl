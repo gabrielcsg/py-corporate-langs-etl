{
 "cells": [
  {
   "cell_type": "markdown",
   "metadata": {},
   "source": [
    "Conhecendo a lib requests"
   ]
  },
  {
   "cell_type": "code",
   "execution_count": 4,
   "metadata": {},
   "outputs": [],
   "source": [
    "import requests"
   ]
  },
  {
   "cell_type": "code",
   "execution_count": 12,
   "metadata": {},
   "outputs": [],
   "source": [
    "r = requests.get('https://api.github.com/versions')"
   ]
  },
  {
   "cell_type": "code",
   "execution_count": 13,
   "metadata": {},
   "outputs": [
    {
     "data": {
      "text/plain": [
       "'[\"2022-11-28\"]'"
      ]
     },
     "execution_count": 13,
     "metadata": {},
     "output_type": "execute_result"
    }
   ],
   "source": [
    "r.text"
   ]
  },
  {
   "cell_type": "code",
   "execution_count": 15,
   "metadata": {},
   "outputs": [
    {
     "data": {
      "text/plain": [
       "['2022-11-28']"
      ]
     },
     "execution_count": 15,
     "metadata": {},
     "output_type": "execute_result"
    }
   ],
   "source": [
    "r.json()"
   ]
  },
  {
   "cell_type": "code",
   "execution_count": 16,
   "metadata": {},
   "outputs": [],
   "source": [
    "r = requests.get('https://api.github.com/events')"
   ]
  },
  {
   "cell_type": "code",
   "execution_count": 17,
   "metadata": {},
   "outputs": [
    {
     "data": {
      "text/plain": [
       "'[{\"id\":\"40038351276\",\"type\":\"PushEvent\",\"actor\":{\"id\":132768287,\"login\":\"jurabek10\",\"display_login\":\"jurabek10\",\"gravatar_id\":\"\",\"url\":\"https://api.github.com/users/jurabek10\",\"avatar_url\":\"https://avatars.githubusercontent.com/u/132768287?\"},\"repo\":{\"id\":825003327,\"name\":\"jurabek10/burak-react\",\"url\":\"https://api.github.com/repos/jurabek10/burak-react\"},\"payload\":{\"repository_id\":825003327,\"push_id\":19261453025,\"size\":1,\"distinct_size\":1,\"ref\":\"refs/heads/develop\",\"head\":\"284f69db8a9c754f2910ae76fe5af6876ade150f\",\"before\":\"b36bafe2c864204e5f78697169408b5d49ca6133\",\"commits\":[{\"sha\":\"284f69db8a9c754f2910ae76fe5af6876ade150f\",\"author\":{\"email\":\"samiev.jurabek@bk.ru\",\"name\":\"jurabek10\"},\"message\":\"feat: develop header and footer part one\",\"distinct\":true,\"url\":\"https://api.github.com/repos/jurabek10/burak-react/commits/284f69db8a9c754f2910ae76fe5af6876ade150f\"}]},\"public\":true,\"created_at\":\"2024-07-10T18:28:16Z\"},{\"id\":\"40038351287\",\"type\":\"CreateEvent\",\"actor\":{\"id\":140785728,\"login\":\"surajs41\",\"display_login\":\"surajs41\",\"gravatar_id\":\"\",\"url\":\"https://api.github.com/users/surajs41\",\"avatar_url\":\"https://avatars.githubusercontent.com/u/140785728?\"},\"repo\":{\"id\":826958956,\"name\":\"surajs41/StudentRegistrationMVC\",\"url\":\"https://api.github.com/repos/surajs41/StudentRegistrationMVC\"},\"payload\":{\"ref\":\"master\",\"ref_type\":\"branch\",\"master_branch\":\"main\",\"description\":null,\"pusher_type\":\"user\"},\"public\":true,\"created_at\":\"2024-07-10T18:28:16Z\"},{\"id\":\"40038351265\",\"type\":\"PushEvent\",\"actor\":{\"id\":29139614,\"login\":\"renovate[bot]\",\"display_login\":\"renovate\",\"gravatar_id\":\"\",\"url\":\"https://api.github.com/users/renovate[bot]\",\"avatar_url\":\"https://avatars.githubusercontent.com/u/29139614?\"},\"repo\":{\"id\":800242848,\"name\":\"soenneker/soenneker.ipqs.client\",\"url\":\"https://api.github.com/repos/soenneker/soenneker.ipqs.client\"},\"payload\":{\"repository_id\":800242848,\"push_id\":19261453009,\"size\":1,\"distinct_size\":1,\"ref\":\"refs/heads/renovate/soenneker.utils.httpclientcache-2.x\",\"head\":\"be3b9af6af74ba672843e0e643bd22524eaffc2f\",\"before\":\"07c2f5ad35fbf3e8990584a932ec02367d0df1bd\",\"commits\":[{\"sha\":\"be3b9af6af74ba672843e0e643bd22524eaffc2f\",\"author\":{\"email\":\"29139614+renovate[bot]@users.noreply.github.com\",\"name\":\"renovate[bot]\"},\"message\":\"Update dependency Soenneker.Utils.HttpClientCache to v2.1.597\",\"distinct\":true,\"url\":\"https://api.github.com/repos/soenneker/soenneker.ipqs.client/commits/be3b9af6af74ba672843e0e643bd22524eaffc2f\"}]},\"public\":true,\"created_at\":\"2024-07-10T18:28:16Z\"},{\"id\":\"40038351267\",\"type\":\"PushEvent\",\"actor\":{\"id\":40554910,\"login\":\"subhasmiththapa2502\",\"display_login\":\"subhasmiththapa2502\",\"gravatar_id\":\"\",\"url\":\"https://api.github.com/users/subhasmiththapa2502\",\"avatar_url\":\"https://avatars.githubusercontent.com/u/40554910?\"},\"repo\":{\"id\":826888549,\"name\":\"subhasmiththapa2502/markone\",\"url\":\"https://api.github.com/repos/subhasmiththapa2502/markone\"},\"payload\":{\"repository_id\":826888549,\"push_id\":19261453013,\"size\":1,\"distinct_size\":1,\"ref\":\"refs/heads/main\",\"head\":\"f8268276d4beb8e1a84fc8d09f85e2c398e3962a\",\"before\":\"8c671628dfe5400508eabb4622068612df264fe6\",\"commits\":[{\"sha\":\"f8268276d4beb8e1a84fc8d09f85e2c398e3962a\",\"author\":{\"email\":\"40554910+subhasmiththapa2502@users.noreply.github.com\",\"name\":\"Subhasmith\"},\"message\":\"Create README.md\",\"distinct\":true,\"url\":\"https://api.github.com/repos/subhasmiththapa2502/markone/commits/f8268276d4beb8e1a84fc8d09f85e2c398e3962a\"}]},\"public\":true,\"created_at\":\"2024-07-10T18:28:16Z\"},{\"id\":\"40038351256\",\"type\":\"PushEvent\",\"actor\":{\"id\":29139614,\"login\":\"renovate[bot]\",\"display_login\":\"renovate\",\"gravatar_id\":\"\",\"url\":\"https://api.github.com/users/renovate[bot]\",\"avatar_url\":\"https://avatars.githubusercontent.com/u/29139614?\"},\"repo\":{\"id\":737664134,\"name\":\"soenneker/soenneker.google.credentials\",\"url\":\"https://api.github.com/repos/soenneker/soenneker.google.credentials\"},\"payload\":{\"repository_id\":737664134,\"push_id\":19261453002,\"size\":1,\"distinct_size\":1,\"ref\":\"refs/heads/main\",\"head\":\"11a8db0e52b251e9e7d38a5f948990bb4eb29b70\",\"before\":\"f2833160f9d753f3fa67f12ad387106e0bcbb54c\",\"commits\":[{\"sha\":\"11a8db0e52b251e9e7d38a5f948990bb4eb29b70\",\"author\":{\"email\":\"29139614+renovate[bot]@users.noreply.github.com\",\"name\":\"renovate[bot]\"},\"message\":\"Update dependency Soenneker.Utils.File to v2.1.812 (#839)\\\\n\\\\nCo-authored-by: renovate[bot] <29139614+renovate[bot]@users.noreply.github.com>\",\"distinct\":true,\"url\":\"https://api.github.com/repos/soenneker/soenneker.google.credentials/commits/11a8db0e52b251e9e7d38a5f948990bb4eb29b70\"}]},\"public\":true,\"created_at\":\"2024-07-10T18:28:16Z\"},{\"id\":\"40038351252\",\"type\":\"PushEvent\",\"actor\":{\"id\":41898282,\"login\":\"github-actions[bot]\",\"display_login\":\"github-actions\",\"gravatar_id\":\"\",\"url\":\"https://api.github.com/users/github-actions[bot]\",\"avatar_url\":\"https://avatars.githubusercontent.com/u/41898282?\"},\"repo\":{\"id\":676991434,\"name\":\"wdunf147204/gala\",\"url\":\"https://api.github.com/repos/wdunf147204/gala\"},\"payload\":{\"repository_id\":676991434,\"push_id\":19261453011,\"size\":1,\"distinct_size\":1,\"ref\":\"refs/heads/main\",\"head\":\"a889834b934a9395c797041559c33302df503288\",\"before\":\"7fdc5b82fe4f7edaf51b5d73147006ef8f616884\",\"commits\":[{\"sha\":\"a889834b934a9395c797041559c33302df503288\",\"author\":{\"email\":\"wissmsarande@outlook.com\",\"name\":\"wdunf147204\"},\"message\":\"a commit a day keeps your girlfriend away\",\"distinct\":true,\"url\":\"https://api.github.com/repos/wdunf147204/gala/commits/a889834b934a9395c797041559c33302df503288\"}]},\"public\":true,\"created_at\":\"2024-07-10T18:28:16Z\"},{\"id\":\"40038351249\",\"type\":\"PushEvent\",\"actor\":{\"id\":159164203,\"login\":\"estheredi0406\",\"display_login\":\"estheredi0406\",\"gravatar_id\":\"\",\"url\":\"https://api.github.com/users/estheredi0406\",\"avatar_url\":\"https://avatars.githubusercontent.com/u/159164203?\"},\"repo\":{\"id\":821874354,\"name\":\"estheredi0406/alu-higher_level_programming\",\"url\":\"https://api.github.com/repos/estheredi0406/alu-higher_level_programming\"},\"payload\":{\"repository_id\":821874354,\"push_id\":19261452999,\"size\":1,\"distinct_size\":1,\"ref\":\"refs/heads/master\",\"head\":\"7be4a8e692268ef515d553a9b4e516eba6b870b0\",\"before\":\"1eb2cda5898905ca34bacc667a94c3535fd51a3e\",\"commits\":[{\"sha\":\"7be4a8e692268ef515d553a9b4e516eba6b870b0\",\"author\":{\"email\":\"e.sessenou@alustudent.com\",\"name\":\"estheredi0406\"},\"message\":\"done\",\"distinct\":true,\"url\":\"https://api.github.com/repos/estheredi0406/alu-higher_level_programming/commits/7be4a8e692268ef515d553a9b4e516eba6b870b0\"}]},\"public\":true,\"created_at\":\"2024-07-10T18:28:16Z\"},{\"id\":\"40038351255\",\"type\":\"PullRequestEvent\",\"actor\":{\"id\":29139614,\"login\":\"renovate[bot]\",\"display_login\":\"renovate\",\"gravatar_id\":\"\",\"url\":\"https://api.github.com/users/renovate[bot]\",\"avatar_url\":\"https://avatars.githubusercontent.com/u/29139614?\"},\"repo\":{\"id\":779853698,\"name\":\"soenneker/soenneker.nuget.client\",\"url\":\"https://api.github.com/repos/soenneker/soenneker.nuget.client\"},\"payload\":{\"action\":\"opened\",\"number\":294,\"pull_request\":{\"url\":\"https://api.github.com/repos/soenneker/soenneker.nuget.client/pulls/294\",\"id\":1962982728,\"node_id\":\"PR_kwDOLnufgs51AL1I\",\"html_url\":\"https://github.com/soenneker/soenneker.nuget.client/pull/294\",\"diff_url\":\"https://github.com/soenneker/soenneker.nuget.client/pull/294.diff\",\"patch_url\":\"https://github.com/soenneker/soenneker.nuget.client/pull/294.patch\",\"issue_url\":\"https://api.github.com/repos/soenneker/soenneker.nuget.client/issues/294\",\"number\":294,\"state\":\"open\",\"locked\":false,\"title\":\"Update dependency Soenneker.Tests.FixturedUnit to v2.1.904\",\"user\":{\"login\":\"renovate[bot]\",\"id\":29139614,\"node_id\":\"MDM6Qm90MjkxMzk2MTQ=\",\"avatar_url\":\"https://avatars.githubusercontent.com/in/2740?v=4\",\"gravatar_id\":\"\",\"url\":\"https://api.github.com/users/renovate%5Bbot%5D\",\"html_url\":\"https://github.com/apps/renovate\",\"followers_url\":\"https://api.github.com/users/renovate%5Bbot%5D/followers\",\"following_url\":\"https://api.github.com/users/renovate%5Bbot%5D/following{/other_user}\",\"gists_url\":\"https://api.github.com/users/renovate%5Bbot%5D/gists{/gist_id}\",\"starred_url\":\"https://api.github.com/users/renovate%5Bbot%5D/starred{/owner}{/repo}\",\"subscriptions_url\":\"https://api.github.com/users/renovate%5Bbot%5D/subscriptions\",\"organizations_url\":\"https://api.github.com/users/renovate%5Bbot%5D/orgs\",\"repos_url\":\"https://api.github.com/users/renovate%5Bbot%5D/repos\",\"events_url\":\"https://api.github.com/users/renovate%5Bbot%5D/events{/privacy}\",\"received_events_url\":\"https://api.github.com/users/renovate%5Bbot%5D/received_events\",\"type\":\"Bot\",\"site_admin\":false},\"body\":\"[![Mend Renovate](https://app.renovatebot.com/images/banner.svg)](https://renovatebot.com)\\\\n\\\\nThis PR contains the following updates:\\\\n\\\\n| Package | Change | Age | Adoption | Passing | Confidence |\\\\n|---|---|---|---|---|---|\\\\n| [Soenneker.Tests.FixturedUnit](https://togithub.com/soenneker/soenneker.tests.fixturedunit) | `2.1.903` -> `2.1.904` | [![age](https://developer.mend.io/api/mc/badges/age/nuget/Soenneker.Tests.FixturedUnit/2.1.904?slim=true)](https://docs.renovatebot.com/merge-confidence/) | [![adoption](https://developer.mend.io/api/mc/badges/adoption/nuget/Soenneker.Tests.FixturedUnit/2.1.904?slim=true)](https://docs.renovatebot.com/merge-confidence/) | [![passing](https://developer.mend.io/api/mc/badges/compatibility/nuget/Soenneker.Tests.FixturedUnit/2.1.903/2.1.904?slim=true)](https://docs.renovatebot.com/merge-confidence/) | [![confidence](https://developer.mend.io/api/mc/badges/confidence/nuget/Soenneker.Tests.FixturedUnit/2.1.903/2.1.904?slim=true)](https://docs.renovatebot.com/merge-confidence/) |\\\\n\\\\n---\\\\n\\\\n### Configuration\\\\n\\\\n📅 **Schedule**: Branch creation - At any time (no schedule defined), Automerge - At any time (no schedule defined).\\\\n\\\\n🚦 **Automerge**: Enabled.\\\\n\\\\n♻ **Rebasing**: Whenever PR becomes conflicted, or you tick the rebase/retry checkbox.\\\\n\\\\n🔕 **Ignore**: Close this PR and you won\\'t be reminded about this update again.\\\\n\\\\n---\\\\n\\\\n - [ ] <!-- rebase-check -->If you want to rebase/retry this PR, check this box\\\\n\\\\n---\\\\n\\\\nThis PR has been generated by [Mend Renovate](https://www.mend.io/free-developer-tools/renovate/). View repository job log [here](https://developer.mend.io/github/soenneker/soenneker.nuget.client).\\\\n<!--renovate-debug:eyJjcmVhdGVkSW5WZXIiOiIzNy40MjUuMSIsInVwZGF0ZWRJblZlciI6IjM3LjQyNS4xIiwidGFyZ2V0QnJhbmNoIjoibWFpbiIsImxhYmVscyI6W119-->\\\\n\",\"created_at\":\"2024-07-10T18:28:14Z\",\"updated_at\":\"2024-07-10T18:28:14Z\",\"closed_at\":null,\"merged_at\":null,\"merge_commit_sha\":\"55daec1d1d356aad8a62f17d01ab51c473862dda\",\"assignee\":null,\"assignees\":[],\"requested_reviewers\":[],\"requested_teams\":[],\"labels\":[],\"milestone\":null,\"draft\":false,\"commits_url\":\"https://api.github.com/repos/soenneker/soenneker.nuget.client/pulls/294/commits\",\"review_comments_url\":\"https://api.github.com/repos/soenneker/soenneker.nuget.client/pulls/294/comments\",\"review_comment_url\":\"https://api.github.com/repos/soenneker/soenneker.nuget.client/pulls/comments{/number}\",\"comments_url\":\"https://api.github.com/repos/soenneker/soenneker.nuget.client/issues/294/comments\",\"statuses_url\":\"https://api.github.com/repos/soenneker/soenneker.nuget.client/statuses/45561fc8a6ceb39e22b4d292b46a486e8ae53830\",\"head\":{\"label\":\"soenneker:renovate/soenneker.tests.fixturedunit-2.x\",\"ref\":\"renovate/soenneker.tests.fixturedunit-2.x\",\"sha\":\"45561fc8a6ceb39e22b4d292b46a486e8ae53830\",\"user\":{\"login\":\"soenneker\",\"id\":4441470,\"node_id\":\"MDQ6VXNlcjQ0NDE0NzA=\",\"avatar_url\":\"https://avatars.githubusercontent.com/u/4441470?v=4\",\"gravatar_id\":\"\",\"url\":\"https://api.github.com/users/soenneker\",\"html_url\":\"https://github.com/soenneker\",\"followers_url\":\"https://api.github.com/users/soenneker/followers\",\"following_url\":\"https://api.github.com/users/soenneker/following{/other_user}\",\"gists_url\":\"https://api.github.com/users/soenneker/gists{/gist_id}\",\"starred_url\":\"https://api.github.com/users/soenneker/starred{/owner}{/repo}\",\"subscriptions_url\":\"https://api.github.com/users/soenneker/subscriptions\",\"organizations_url\":\"https://api.github.com/users/soenneker/orgs\",\"repos_url\":\"https://api.github.com/users/soenneker/repos\",\"events_url\":\"https://api.github.com/users/soenneker/events{/privacy}\",\"received_events_url\":\"https://api.github.com/users/soenneker/received_events\",\"type\":\"User\",\"site_admin\":false},\"repo\":{\"id\":779853698,\"node_id\":\"R_kgDOLnufgg\",\"name\":\"soenneker.nuget.client\",\"full_name\":\"soenneker/soenneker.nuget.client\",\"private\":false,\"owner\":{\"login\":\"soenneker\",\"id\":4441470,\"node_id\":\"MDQ6VXNlcjQ0NDE0NzA=\",\"avatar_url\":\"https://avatars.githubusercontent.com/u/4441470?v=4\",\"gravatar_id\":\"\",\"url\":\"https://api.github.com/users/soenneker\",\"html_url\":\"https://github.com/soenneker\",\"followers_url\":\"https://api.github.com/users/soenneker/followers\",\"following_url\":\"https://api.github.com/users/soenneker/following{/other_user}\",\"gists_url\":\"https://api.github.com/users/soenneker/gists{/gist_id}\",\"starred_url\":\"https://api.github.com/users/soenneker/starred{/owner}{/repo}\",\"subscriptions_url\":\"https://api.github.com/users/soenneker/subscriptions\",\"organizations_url\":\"https://api.github.com/users/soenneker/orgs\",\"repos_url\":\"https://api.github.com/users/soenneker/repos\",\"events_url\":\"https://api.github.com/users/soenneker/events{/privacy}\",\"received_events_url\":\"https://api.github.com/users/soenneker/received_events\",\"type\":\"User\",\"site_admin\":false},\"html_url\":\"https://github.com/soenneker/soenneker.nuget.client\",\"description\":\"An async thread-safe HTTP client for the NuGet API\",\"fork\":false,\"url\":\"https://api.github.com/repos/soenneker/soenneker.nuget.client\",\"forks_url\":\"https://api.github.com/repos/soenneker/soenneker.nuget.client/forks\",\"keys_url\":\"https://api.github.com/repos/soenneker/soenneker.nuget.client/keys{/key_id}\",\"collaborators_url\":\"https://api.github.com/repos/soenneker/soenneker.nuget.client/collaborators{/collaborator}\",\"teams_url\":\"https://api.github.com/repos/soenneker/soenneker.nuget.client/teams\",\"hooks_url\":\"https://api.github.com/repos/soenneker/soenneker.nuget.client/hooks\",\"issue_events_url\":\"https://api.github.com/repos/soenneker/soenneker.nuget.client/issues/events{/number}\",\"events_url\":\"https://api.github.com/repos/soenneker/soenneker.nuget.client/events\",\"assignees_url\":\"https://api.github.com/repos/soenneker/soenneker.nuget.client/assignees{/user}\",\"branches_url\":\"https://api.github.com/repos/soenneker/soenneker.nuget.client/branches{/branch}\",\"tags_url\":\"https://api.github.com/repos/soenneker/soenneker.nuget.client/tags\",\"blobs_url\":\"https://api.github.com/repos/soenneker/soenneker.nuget.client/git/blobs{/sha}\",\"git_tags_url\":\"https://api.github.com/repos/soenneker/soenneker.nuget.client/git/tags{/sha}\",\"git_refs_url\":\"https://api.github.com/repos/soenneker/soenneker.nuget.client/git/refs{/sha}\",\"trees_url\":\"https://api.github.com/repos/soenneker/soenneker.nuget.client/git/trees{/sha}\",\"statuses_url\":\"https://api.github.com/repos/soenneker/soenneker.nuget.client/statuses/{sha}\",\"languages_url\":\"https://api.github.com/repos/soenneker/soenneker.nuget.client/languages\",\"stargazers_url\":\"https://api.github.com/repos/soenneker/soenneker.nuget.client/stargazers\",\"contributors_url\":\"https://api.github.com/repos/soenneker/soenneker.nuget.client/contributors\",\"subscribers_url\":\"https://api.github.com/repos/soenneker/soenneker.nuget.client/subscribers\",\"subscription_url\":\"https://api.github.com/repos/soenneker/soenneker.nuget.client/subscription\",\"commits_url\":\"https://api.github.com/repos/soenneker/soenneker.nuget.client/commits{/sha}\",\"git_commits_url\":\"https://api.github.com/repos/soenneker/soenneker.nuget.client/git/commits{/sha}\",\"comments_url\":\"https://api.github.com/repos/soenneker/soenneker.nuget.client/comments{/number}\",\"issue_comment_url\":\"https://api.github.com/repos/soenneker/soenneker.nuget.client/issues/comments{/number}\",\"contents_url\":\"https://api.github.com/repos/soenneker/soenneker.nuget.client/contents/{+path}\",\"compare_url\":\"https://api.github.com/repos/soenneker/soenneker.nuget.client/compare/{base}...{head}\",\"merges_url\":\"https://api.github.com/repos/soenneker/soenneker.nuget.client/merges\",\"archive_url\":\"https://api.github.com/repos/soenneker/soenneker.nuget.client/{archive_format}{/ref}\",\"downloads_url\":\"https://api.github.com/repos/soenneker/soenneker.nuget.client/downloads\",\"issues_url\":\"https://api.github.com/repos/soenneker/soenneker.nuget.client/issues{/number}\",\"pulls_url\":\"https://api.github.com/repos/soenneker/soenneker.nuget.client/pulls{/number}\",\"milestones_url\":\"https://api.github.com/repos/soenneker/soenneker.nuget.client/milestones{/number}\",\"notifications_url\":\"https://api.github.com/repos/soenneker/soenneker.nuget.client/notifications{?since,all,participating}\",\"labels_url\":\"https://api.github.com/repos/soenneker/soenneker.nuget.client/labels{/name}\",\"releases_url\":\"https://api.github.com/repos/soenneker/soenneker.nuget.client/releases{/id}\",\"deployments_url\":\"https://api.github.com/repos/soenneker/soenneker.nuget.client/deployments\",\"created_at\":\"2024-03-31T00:48:14Z\",\"updated_at\":\"2024-07-10T17:04:11Z\",\"pushed_at\":\"2024-07-10T18:28:15Z\",\"git_url\":\"git://github.com/soenneker/soenneker.nuget.client.git\",\"ssh_url\":\"git@github.com:soenneker/soenneker.nuget.client.git\",\"clone_url\":\"https://github.com/soenneker/soenneker.nuget.client.git\",\"svn_url\":\"https://github.com/soenneker/soenneker.nuget.client\",\"homepage\":\"https://soenneker.com\",\"size\":328,\"stargazers_count\":0,\"watchers_count\":0,\"language\":\"C#\",\"has_issues\":true,\"has_projects\":false,\"has_downloads\":false,\"has_wiki\":false,\"has_pages\":false,\"has_discussions\":false,\"forks_count\":0,\"mirror_url\":null,\"archived\":false,\"disabled\":false,\"open_issues_count\":2,\"license\":{\"key\":\"mit\",\"name\":\"MIT License\",\"spdx_id\":\"MIT\",\"url\":\"https://api.github.com/licenses/mit\",\"node_id\":\"MDc6TGljZW5zZTEz\"},\"allow_forking\":true,\"is_template\":false,\"web_commit_signoff_required\":false,\"topics\":[\"client\",\"csharp\",\"dotnet\",\"http\",\"httpclient\",\"management\",\"nuget\",\"nugetclient\",\"packages\",\"util\"],\"visibility\":\"public\",\"forks\":0,\"open_issues\":2,\"watchers\":0,\"default_branch\":\"main\"}},\"base\":{\"label\":\"soenneker:main\",\"ref\":\"main\",\"sha\":\"27c56790adc7f9663efcd4ff0ddcda6c95781325\",\"user\":{\"login\":\"soenneker\",\"id\":4441470,\"node_id\":\"MDQ6VXNlcjQ0NDE0NzA=\",\"avatar_url\":\"https://avatars.githubusercontent.com/u/4441470?v=4\",\"gravatar_id\":\"\",\"url\":\"https://api.github.com/users/soenneker\",\"html_url\":\"https://github.com/soenneker\",\"followers_url\":\"https://api.github.com/users/soenneker/followers\",\"following_url\":\"https://api.github.com/users/soenneker/following{/other_user}\",\"gists_url\":\"https://api.github.com/users/soenneker/gists{/gist_id}\",\"starred_url\":\"https://api.github.com/users/soenneker/starred{/owner}{/repo}\",\"subscriptions_url\":\"https://api.github.com/users/soenneker/subscriptions\",\"organizations_url\":\"https://api.github.com/users/soenneker/orgs\",\"repos_url\":\"https://api.github.com/users/soenneker/repos\",\"events_url\":\"https://api.github.com/users/soenneker/events{/privacy}\",\"received_events_url\":\"https://api.github.com/users/soenneker/received_events\",\"type\":\"User\",\"site_admin\":false},\"repo\":{\"id\":779853698,\"node_id\":\"R_kgDOLnufgg\",\"name\":\"soenneker.nuget.client\",\"full_name\":\"soenneker/soenneker.nuget.client\",\"private\":false,\"owner\":{\"login\":\"soenneker\",\"id\":4441470,\"node_id\":\"MDQ6VXNlcjQ0NDE0NzA=\",\"avatar_url\":\"https://avatars.githubusercontent.com/u/4441470?v=4\",\"gravatar_id\":\"\",\"url\":\"https://api.github.com/users/soenneker\",\"html_url\":\"https://github.com/soenneker\",\"followers_url\":\"https://api.github.com/users/soenneker/followers\",\"following_url\":\"https://api.github.com/users/soenneker/following{/other_user}\",\"gists_url\":\"https://api.github.com/users/soenneker/gists{/gist_id}\",\"starred_url\":\"https://api.github.com/users/soenneker/starred{/owner}{/repo}\",\"subscriptions_url\":\"https://api.github.com/users/soenneker/subscriptions\",\"organizations_url\":\"https://api.github.com/users/soenneker/orgs\",\"repos_url\":\"https://api.github.com/users/soenneker/repos\",\"events_url\":\"https://api.github.com/users/soenneker/events{/privacy}\",\"received_events_url\":\"https://api.github.com/users/soenneker/received_events\",\"type\":\"User\",\"site_admin\":false},\"html_url\":\"https://github.com/soenneker/soenneker.nuget.client\",\"description\":\"An async thread-safe HTTP client for the NuGet API\",\"fork\":false,\"url\":\"https://api.github.com/repos/soenneker/soenneker.nuget.client\",\"forks_url\":\"https://api.github.com/repos/soenneker/soenneker.nuget.client/forks\",\"keys_url\":\"https://api.github.com/repos/soenneker/soenneker.nuget.client/keys{/key_id}\",\"collaborators_url\":\"https://api.github.com/repos/soenneker/soenneker.nuget.client/collaborators{/collaborator}\",\"teams_url\":\"https://api.github.com/repos/soenneker/soenneker.nuget.client/teams\",\"hooks_url\":\"https://api.github.com/repos/soenneker/soenneker.nuget.client/hooks\",\"issue_events_url\":\"https://api.github.com/repos/soenneker/soenneker.nuget.client/issues/events{/number}\",\"events_url\":\"https://api.github.com/repos/soenneker/soenneker.nuget.client/events\",\"assignees_url\":\"https://api.github.com/repos/soenneker/soenneker.nuget.client/assignees{/user}\",\"branches_url\":\"https://api.github.com/repos/soenneker/soenneker.nuget.client/branches{/branch}\",\"tags_url\":\"https://api.github.com/repos/soenneker/soenneker.nuget.client/tags\",\"blobs_url\":\"https://api.github.com/repos/soenneker/soenneker.nuget.client/git/blobs{/sha}\",\"git_tags_url\":\"https://api.github.com/repos/soenneker/soenneker.nuget.client/git/tags{/sha}\",\"git_refs_url\":\"https://api.github.com/repos/soenneker/soenneker.nuget.client/git/refs{/sha}\",\"trees_url\":\"https://api.github.com/repos/soenneker/soenneker.nuget.client/git/trees{/sha}\",\"statuses_url\":\"https://api.github.com/repos/soenneker/soenneker.nuget.client/statuses/{sha}\",\"languages_url\":\"https://api.github.com/repos/soenneker/soenneker.nuget.client/languages\",\"stargazers_url\":\"https://api.github.com/repos/soenneker/soenneker.nuget.client/stargazers\",\"contributors_url\":\"https://api.github.com/repos/soenneker/soenneker.nuget.client/contributors\",\"subscribers_url\":\"https://api.github.com/repos/soenneker/soenneker.nuget.client/subscribers\",\"subscription_url\":\"https://api.github.com/repos/soenneker/soenneker.nuget.client/subscription\",\"commits_url\":\"https://api.github.com/repos/soenneker/soenneker.nuget.client/commits{/sha}\",\"git_commits_url\":\"https://api.github.com/repos/soenneker/soenneker.nuget.client/git/commits{/sha}\",\"comments_url\":\"https://api.github.com/repos/soenneker/soenneker.nuget.client/comments{/number}\",\"issue_comment_url\":\"https://api.github.com/repos/soenneker/soenneker.nuget.client/issues/comments{/number}\",\"contents_url\":\"https://api.github.com/repos/soenneker/soenneker.nuget.client/contents/{+path}\",\"compare_url\":\"https://api.github.com/repos/soenneker/soenneker.nuget.client/compare/{base}...{head}\",\"merges_url\":\"https://api.github.com/repos/soenneker/soenneker.nuget.client/merges\",\"archive_url\":\"https://api.github.com/repos/soenneker/soenneker.nuget.client/{archive_format}{/ref}\",\"downloads_url\":\"https://api.github.com/repos/soenneker/soenneker.nuget.client/downloads\",\"issues_url\":\"https://api.github.com/repos/soenneker/soenneker.nuget.client/issues{/number}\",\"pulls_url\":\"https://api.github.com/repos/soenneker/soenneker.nuget.client/pulls{/number}\",\"milestones_url\":\"https://api.github.com/repos/soenneker/soenneker.nuget.client/milestones{/number}\",\"notifications_url\":\"https://api.github.com/repos/soenneker/soenneker.nuget.client/notifications{?since,all,participating}\",\"labels_url\":\"https://api.github.com/repos/soenneker/soenneker.nuget.client/labels{/name}\",\"releases_url\":\"https://api.github.com/repos/soenneker/soenneker.nuget.client/releases{/id}\",\"deployments_url\":\"https://api.github.com/repos/soenneker/soenneker.nuget.client/deployments\",\"created_at\":\"2024-03-31T00:48:14Z\",\"updated_at\":\"2024-07-10T17:04:11Z\",\"pushed_at\":\"2024-07-10T18:28:15Z\",\"git_url\":\"git://github.com/soenneker/soenneker.nuget.client.git\",\"ssh_url\":\"git@github.com:soenneker/soenneker.nuget.client.git\",\"clone_url\":\"https://github.com/soenneker/soenneker.nuget.client.git\",\"svn_url\":\"https://github.com/soenneker/soenneker.nuget.client\",\"homepage\":\"https://soenneker.com\",\"size\":328,\"stargazers_count\":0,\"watchers_count\":0,\"language\":\"C#\",\"has_issues\":true,\"has_projects\":false,\"has_downloads\":false,\"has_wiki\":false,\"has_pages\":false,\"has_discussions\":false,\"forks_count\":0,\"mirror_url\":null,\"archived\":false,\"disabled\":false,\"open_issues_count\":2,\"license\":{\"key\":\"mit\",\"name\":\"MIT License\",\"spdx_id\":\"MIT\",\"url\":\"https://api.github.com/licenses/mit\",\"node_id\":\"MDc6TGljZW5zZTEz\"},\"allow_forking\":true,\"is_template\":false,\"web_commit_signoff_required\":false,\"topics\":[\"client\",\"csharp\",\"dotnet\",\"http\",\"httpclient\",\"management\",\"nuget\",\"nugetclient\",\"packages\",\"util\"],\"visibility\":\"public\",\"forks\":0,\"open_issues\":2,\"watchers\":0,\"default_branch\":\"main\"}},\"_links\":{\"self\":{\"href\":\"https://api.github.com/repos/soenneker/soenneker.nuget.client/pulls/294\"},\"html\":{\"href\":\"https://github.com/soenneker/soenneker.nuget.client/pull/294\"},\"issue\":{\"href\":\"https://api.github.com/repos/soenneker/soenneker.nuget.client/issues/294\"},\"comments\":{\"href\":\"https://api.github.com/repos/soenneker/soenneker.nuget.client/issues/294/comments\"},\"review_comments\":{\"href\":\"https://api.github.com/repos/soenneker/soenneker.nuget.client/pulls/294/comments\"},\"review_comment\":{\"href\":\"https://api.github.com/repos/soenneker/soenneker.nuget.client/pulls/comments{/number}\"},\"commits\":{\"href\":\"https://api.github.com/repos/soenneker/soenneker.nuget.client/pulls/294/commits\"},\"statuses\":{\"href\":\"https://api.github.com/repos/soenneker/soenneker.nuget.client/statuses/45561fc8a6ceb39e22b4d292b46a486e8ae53830\"}},\"author_association\":\"CONTRIBUTOR\",\"auto_merge\":{\"enabled_by\":{\"login\":\"renovate[bot]\",\"id\":29139614,\"node_id\":\"MDM6Qm90MjkxMzk2MTQ=\",\"avatar_url\":\"https://avatars.githubusercontent.com/in/2740?v=4\",\"gravatar_id\":\"\",\"url\":\"https://api.github.com/users/renovate%5Bbot%5D\",\"html_url\":\"https://github.com/apps/renovate\",\"followers_url\":\"https://api.github.com/users/renovate%5Bbot%5D/followers\",\"following_url\":\"https://api.github.com/users/renovate%5Bbot%5D/following{/other_user}\",\"gists_url\":\"https://api.github.com/users/renovate%5Bbot%5D/gists{/gist_id}\",\"starred_url\":\"https://api.github.com/users/renovate%5Bbot%5D/starred{/owner}{/repo}\",\"subscriptions_url\":\"https://api.github.com/users/renovate%5Bbot%5D/subscriptions\",\"organizations_url\":\"https://api.github.com/users/renovate%5Bbot%5D/orgs\",\"repos_url\":\"https://api.github.com/users/renovate%5Bbot%5D/repos\",\"events_url\":\"https://api.github.com/users/renovate%5Bbot%5D/events{/privacy}\",\"received_events_url\":\"https://api.github.com/users/renovate%5Bbot%5D/received_events\",\"type\":\"Bot\",\"site_admin\":false},\"merge_method\":\"squash\",\"commit_title\":null,\"commit_message\":null},\"active_lock_reason\":null,\"merged\":false,\"mergeable\":true,\"rebaseable\":true,\"mergeable_state\":\"unstable\",\"merged_by\":null,\"comments\":0,\"review_comments\":0,\"maintainer_can_modify\":false,\"commits\":1,\"additions\":1,\"deletions\":1,\"changed_files\":1}},\"public\":true,\"created_at\":\"2024-07-10T18:28:16Z\"},{\"id\":\"40038351238\",\"type\":\"WatchEvent\",\"actor\":{\"id\":27032740,\"login\":\"Maarcosv99\",\"display_login\":\"Maarcosv99\",\"gravatar_id\":\"\",\"url\":\"https://api.github.com/users/Maarcosv99\",\"avatar_url\":\"https://avatars.githubusercontent.com/u/27032740?\"},\"repo\":{\"id\":372193147,\"name\":\"orhun/git-cliff\",\"url\":\"https://api.github.com/repos/orhun/git-cliff\"},\"payload\":{\"action\":\"started\"},\"public\":true,\"created_at\":\"2024-07-10T18:28:16Z\"},{\"id\":\"40038351236\",\"type\":\"PullRequestEvent\",\"actor\":{\"id\":111944664,\"login\":\"budimanjojo-bot[bot]\",\"display_login\":\"budimanjojo-bot\",\"gravatar_id\":\"\",\"url\":\"https://api.github.com/users/budimanjojo-bot[bot]\",\"avatar_url\":\"https://avatars.githubusercontent.com/u/111944664?\"},\"repo\":{\"id\":64366361,\"name\":\"budimanjojo/dotfiles\",\"url\":\"https://api.github.com/repos/budimanjojo/dotfiles\"},\"payload\":{\"action\":\"closed\",\"number\":3317,\"pull_request\":{\"url\":\"https://api.github.com/repos/budimanjojo/dotfiles/pulls/3317\",\"id\":1962982701,\"node_id\":\"PR_kwDOA9YnGc51AL0t\",\"html_url\":\"https://github.com/budimanjojo/dotfiles/pull/3317\",\"diff_url\":\"https://github.com/budimanjojo/dotfiles/pull/3317.diff\",\"patch_url\":\"https://github.com/budimanjojo/dotfiles/pull/3317.patch\",\"issue_url\":\"https://api.github.com/repos/budimanjojo/dotfiles/issues/3317\",\"number\":3317,\"state\":\"closed\",\"locked\":false,\"title\":\"chore(deps): lock file maintenance\",\"user\":{\"login\":\"budimanjojo-bot[bot]\",\"id\":111944664,\"node_id\":\"BOT_kgDOBqwj2A\",\"avatar_url\":\"https://avatars.githubusercontent.com/in/231300?v=4\",\"gravatar_id\":\"\",\"url\":\"https://api.github.com/users/budimanjojo-bot%5Bbot%5D\",\"html_url\":\"https://github.com/apps/budimanjojo-bot\",\"followers_url\":\"https://api.github.com/users/budimanjojo-bot%5Bbot%5D/followers\",\"following_url\":\"https://api.github.com/users/budimanjojo-bot%5Bbot%5D/following{/other_user}\",\"gists_url\":\"https://api.github.com/users/budimanjojo-bot%5Bbot%5D/gists{/gist_id}\",\"starred_url\":\"https://api.github.com/users/budimanjojo-bot%5Bbot%5D/starred{/owner}{/repo}\",\"subscriptions_url\":\"https://api.github.com/users/budimanjojo-bot%5Bbot%5D/subscriptions\",\"organizations_url\":\"https://api.github.com/users/budimanjojo-bot%5Bbot%5D/orgs\",\"repos_url\":\"https://api.github.com/users/budimanjojo-bot%5Bbot%5D/repos\",\"events_url\":\"https://api.github.com/users/budimanjojo-bot%5Bbot%5D/events{/privacy}\",\"received_events_url\":\"https://api.github.com/users/budimanjojo-bot%5Bbot%5D/received_events\",\"type\":\"Bot\",\"site_admin\":false},\"body\":\"This PR contains the following updates:\\\\n\\\\n| Update | Change |\\\\n|---|---|\\\\n| lockFileMaintenance | All locks refreshed |\\\\n\\\\n🔧 This Pull Request updates lock files to use the latest dependency versions.\\\\n\\\\n---\\\\n\\\\n### Configuration\\\\n\\\\n📅 **Schedule**: Branch creation - \\\\\"after 1am and before 3am\\\\\" in timezone Asia/Jakarta, Automerge - At any time (no schedule defined).\\\\n\\\\n🚦 **Automerge**: Enabled.\\\\n\\\\n♻ **Rebasing**: Whenever PR becomes conflicted, or you tick the rebase/retry checkbox.\\\\n\\\\n👻 **Immortal**: This PR will be recreated if closed unmerged. Get [config help](https://togithub.com/renovatebot/renovate/discussions) if that\\'s undesired.\\\\n\\\\n---\\\\n\\\\n - [ ] <!-- rebase-check -->If you want to rebase/retry this PR, check this box\\\\n\\\\n---\\\\n\\\\nThis PR has been generated by [Renovate Bot](https://togithub.com/renovatebot/renovate).\\\\n<!--renovate-debug:eyJjcmVhdGVkSW5WZXIiOiIzNy40MjcuMCIsInVwZGF0ZWRJblZlciI6IjM3LjQyNy4wIiwidGFyZ2V0QnJhbmNoIjoibWFpbiIsImxhYmVscyI6WyJyZW5vdmF0ZWJvdCJdfQ==-->\\\\n\",\"created_at\":\"2024-07-10T18:28:13Z\",\"updated_at\":\"2024-07-10T18:28:15Z\",\"closed_at\":\"2024-07-10T18:28:15Z\",\"merged_at\":\"2024-07-10T18:28:15Z\",\"merge_commit_sha\":\"041834d5b03d4f53896e468a87b7989f6fa1f1a8\",\"assignee\":null,\"assignees\":[],\"requested_reviewers\":[],\"requested_teams\":[],\"labels\":[{\"id\":3580127786,\"node_id\":\"LA_kwDOA9YnGc7VZGoq\",\"url\":\"https://api.github.com/repos/budimanjojo/dotfiles/labels/renovatebot\",\"name\":\"renovatebot\",\"color\":\"0db9d7\",\"default\":false,\"description\":\"Pull request created by Renovate\"}],\"milestone\":null,\"draft\":false,\"commits_url\":\"https://api.github.com/repos/budimanjojo/dotfiles/pulls/3317/commits\",\"review_comments_url\":\"https://api.github.com/repos/budimanjojo/dotfiles/pulls/3317/comments\",\"review_comment_url\":\"https://api.github.com/repos/budimanjojo/dotfiles/pulls/comments{/number}\",\"comments_url\":\"https://api.github.com/repos/budimanjojo/dotfiles/issues/3317/comments\",\"statuses_url\":\"https://api.github.com/repos/budimanjojo/dotfiles/statuses/2a812f7bbb37ebb5626172f608053257b0311a33\",\"head\":{\"label\":\"budimanjojo:renovate/lock-file-maintenance\",\"ref\":\"renovate/lock-file-maintenance\",\"sha\":\"2a812f7bbb37ebb5626172f608053257b0311a33\",\"user\":{\"login\":\"budimanjojo\",\"id\":13085918,\"node_id\":\"MDQ6VXNlcjEzMDg1OTE4\",\"avatar_url\":\"https://avatars.githubusercontent.com/u/13085918?v=4\",\"gravatar_id\":\"\",\"url\":\"https://api.github.com/users/budimanjojo\",\"html_url\":\"https://github.com/budimanjojo\",\"followers_url\":\"https://api.github.com/users/budimanjojo/followers\",\"following_url\":\"https://api.github.com/users/budimanjojo/following{/other_user}\",\"gists_url\":\"https://api.github.com/users/budimanjojo/gists{/gist_id}\",\"starred_url\":\"https://api.github.com/users/budimanjojo/starred{/owner}{/repo}\",\"subscriptions_url\":\"https://api.github.com/users/budimanjojo/subscriptions\",\"organizations_url\":\"https://api.github.com/users/budimanjojo/orgs\",\"repos_url\":\"https://api.github.com/users/budimanjojo/repos\",\"events_url\":\"https://api.github.com/users/budimanjojo/events{/privacy}\",\"received_events_url\":\"https://api.github.com/users/budimanjojo/received_events\",\"type\":\"User\",\"site_admin\":false},\"repo\":{\"id\":64366361,\"node_id\":\"MDEwOlJlcG9zaXRvcnk2NDM2NjM2MQ==\",\"name\":\"dotfiles\",\"full_name\":\"budimanjojo/dotfiles\",\"private\":false,\"owner\":{\"login\":\"budimanjojo\",\"id\":13085918,\"node_id\":\"MDQ6VXNlcjEzMDg1OTE4\",\"avatar_url\":\"https://avatars.githubusercontent.com/u/13085918?v=4\",\"gravatar_id\":\"\",\"url\":\"https://api.github.com/users/budimanjojo\",\"html_url\":\"https://github.com/budimanjojo\",\"followers_url\":\"https://api.github.com/users/budimanjojo/followers\",\"following_url\":\"https://api.github.com/users/budimanjojo/following{/other_user}\",\"gists_url\":\"https://api.github.com/users/budimanjojo/gists{/gist_id}\",\"starred_url\":\"https://api.github.com/users/budimanjojo/starred{/owner}{/repo}\",\"subscriptions_url\":\"https://api.github.com/users/budimanjojo/subscriptions\",\"organizations_url\":\"https://api.github.com/users/budimanjojo/orgs\",\"repos_url\":\"https://api.github.com/users/budimanjojo/repos\",\"events_url\":\"https://api.github.com/users/budimanjojo/events{/privacy}\",\"received_events_url\":\"https://api.github.com/users/budimanjojo/received_events\",\"type\":\"User\",\"site_admin\":false},\"html_url\":\"https://github.com/budimanjojo/dotfiles\",\"description\":\"My dotfiles are here, managed with Chezmoi and NixOS Flakes\",\"fork\":false,\"url\":\"https://api.github.com/repos/budimanjojo/dotfiles\",\"forks_url\":\"https://api.github.com/repos/budimanjojo/dotfiles/forks\",\"keys_url\":\"https://api.github.com/repos/budimanjojo/dotfiles/keys{/key_id}\",\"collaborators_url\":\"https://api.github.com/repos/budimanjojo/dotfiles/collaborators{/collaborator}\",\"teams_url\":\"https://api.github.com/repos/budimanjojo/dotfiles/teams\",\"hooks_url\":\"https://api.github.com/repos/budimanjojo/dotfiles/hooks\",\"issue_events_url\":\"https://api.github.com/repos/budimanjojo/dotfiles/issues/events{/number}\",\"events_url\":\"https://api.github.com/repos/budimanjojo/dotfiles/events\",\"assignees_url\":\"https://api.github.com/repos/budimanjojo/dotfiles/assignees{/user}\",\"branches_url\":\"https://api.github.com/repos/budimanjojo/dotfiles/branches{/branch}\",\"tags_url\":\"https://api.github.com/repos/budimanjojo/dotfiles/tags\",\"blobs_url\":\"https://api.github.com/repos/budimanjojo/dotfiles/git/blobs{/sha}\",\"git_tags_url\":\"https://api.github.com/repos/budimanjojo/dotfiles/git/tags{/sha}\",\"git_refs_url\":\"https://api.github.com/repos/budimanjojo/dotfiles/git/refs{/sha}\",\"trees_url\":\"https://api.github.com/repos/budimanjojo/dotfiles/git/trees{/sha}\",\"statuses_url\":\"https://api.github.com/repos/budimanjojo/dotfiles/statuses/{sha}\",\"languages_url\":\"https://api.github.com/repos/budimanjojo/dotfiles/languages\",\"stargazers_url\":\"https://api.github.com/repos/budimanjojo/dotfiles/stargazers\",\"contributors_url\":\"https://api.github.com/repos/budimanjojo/dotfiles/contributors\",\"subscribers_url\":\"https://api.github.com/repos/budimanjojo/dotfiles/subscribers\",\"subscription_url\":\"https://api.github.com/repos/budimanjojo/dotfiles/subscription\",\"commits_url\":\"https://api.github.com/repos/budimanjojo/dotfiles/commits{/sha}\",\"git_commits_url\":\"https://api.github.com/repos/budimanjojo/dotfiles/git/commits{/sha}\",\"comments_url\":\"https://api.github.com/repos/budimanjojo/dotfiles/comments{/number}\",\"issue_comment_url\":\"https://api.github.com/repos/budimanjojo/dotfiles/issues/comments{/number}\",\"contents_url\":\"https://api.github.com/repos/budimanjojo/dotfiles/contents/{+path}\",\"compare_url\":\"https://api.github.com/repos/budimanjojo/dotfiles/compare/{base}...{head}\",\"merges_url\":\"https://api.github.com/repos/budimanjojo/dotfiles/merges\",\"archive_url\":\"https://api.github.com/repos/budimanjojo/dotfiles/{archive_format}{/ref}\",\"downloads_url\":\"https://api.github.com/repos/budimanjojo/dotfiles/downloads\",\"issues_url\":\"https://api.github.com/repos/budimanjojo/dotfiles/issues{/number}\",\"pulls_url\":\"https://api.github.com/repos/budimanjojo/dotfiles/pulls{/number}\",\"milestones_url\":\"https://api.github.com/repos/budimanjojo/dotfiles/milestones{/number}\",\"notifications_url\":\"https://api.github.com/repos/budimanjojo/dotfiles/notifications{?since,all,participating}\",\"labels_url\":\"https://api.github.com/repos/budimanjojo/dotfiles/labels{/name}\",\"releases_url\":\"https://api.github.com/repos/budimanjojo/dotfiles/releases{/id}\",\"deployments_url\":\"https://api.github.com/repos/budimanjojo/dotfiles/deployments\",\"created_at\":\"2016-07-28T05:35:02Z\",\"updated_at\":\"2024-07-10T04:23:20Z\",\"pushed_at\":\"2024-07-10T18:28:14Z\",\"git_url\":\"git://github.com/budimanjojo/dotfiles.git\",\"ssh_url\":\"git@github.com:budimanjojo/dotfiles.git\",\"clone_url\":\"https://github.com/budimanjojo/dotfiles.git\",\"svn_url\":\"https://github.com/budimanjojo/dotfiles\",\"homepage\":\"\",\"size\":3097,\"stargazers_count\":202,\"watchers_count\":202,\"language\":\"Nix\",\"has_issues\":true,\"has_projects\":false,\"has_downloads\":false,\"has_wiki\":false,\"has_pages\":false,\"has_discussions\":false,\"forks_count\":8,\"mirror_url\":null,\"archived\":false,\"disabled\":false,\"open_issues_count\":2,\"license\":{\"key\":\"unlicense\",\"name\":\"The Unlicense\",\"spdx_id\":\"Unlicense\",\"url\":\"https://api.github.com/licenses/unlicense\",\"node_id\":\"MDc6TGljZW5zZTE1\"},\"allow_forking\":true,\"is_template\":false,\"web_commit_signoff_required\":false,\"topics\":[\"chezmoi\",\"dotfiles\",\"fish\",\"fluxcd\",\"hyprland\",\"kubectl\",\"neovim\",\"nixos\",\"nixos-config\",\"nvim\",\"nvim-lua\",\"rofi\",\"tmux\",\"vim\",\"vimrc\",\"waybar\",\"zellij\"],\"visibility\":\"public\",\"forks\":8,\"open_issues\":2,\"watchers\":202,\"default_branch\":\"main\"}},\"base\":{\"label\":\"budimanjojo:main\",\"ref\":\"main\",\"sha\":\"f5cae9da040a3c3c9a6d69fd0dc61af495a1f276\",\"user\":{\"login\":\"budimanjojo\",\"id\":13085918,\"node_id\":\"MDQ6VXNlcjEzMDg1OTE4\",\"avatar_url\":\"https://avatars.githubusercontent.com/u/13085918?v=4\",\"gravatar_id\":\"\",\"url\":\"https://api.github.com/users/budimanjojo\",\"html_url\":\"https://github.com/budimanjojo\",\"followers_url\":\"https://api.github.com/users/budimanjojo/followers\",\"following_url\":\"https://api.github.com/users/budimanjojo/following{/other_user}\",\"gists_url\":\"https://api.github.com/users/budimanjojo/gists{/gist_id}\",\"starred_url\":\"https://api.github.com/users/budimanjojo/starred{/owner}{/repo}\",\"subscriptions_url\":\"https://api.github.com/users/budimanjojo/subscriptions\",\"organizations_url\":\"https://api.github.com/users/budimanjojo/orgs\",\"repos_url\":\"https://api.github.com/users/budimanjojo/repos\",\"events_url\":\"https://api.github.com/users/budimanjojo/events{/privacy}\",\"received_events_url\":\"https://api.github.com/users/budimanjojo/received_events\",\"type\":\"User\",\"site_admin\":false},\"repo\":{\"id\":64366361,\"node_id\":\"MDEwOlJlcG9zaXRvcnk2NDM2NjM2MQ==\",\"name\":\"dotfiles\",\"full_name\":\"budimanjojo/dotfiles\",\"private\":false,\"owner\":{\"login\":\"budimanjojo\",\"id\":13085918,\"node_id\":\"MDQ6VXNlcjEzMDg1OTE4\",\"avatar_url\":\"https://avatars.githubusercontent.com/u/13085918?v=4\",\"gravatar_id\":\"\",\"url\":\"https://api.github.com/users/budimanjojo\",\"html_url\":\"https://github.com/budimanjojo\",\"followers_url\":\"https://api.github.com/users/budimanjojo/followers\",\"following_url\":\"https://api.github.com/users/budimanjojo/following{/other_user}\",\"gists_url\":\"https://api.github.com/users/budimanjojo/gists{/gist_id}\",\"starred_url\":\"https://api.github.com/users/budimanjojo/starred{/owner}{/repo}\",\"subscriptions_url\":\"https://api.github.com/users/budimanjojo/subscriptions\",\"organizations_url\":\"https://api.github.com/users/budimanjojo/orgs\",\"repos_url\":\"https://api.github.com/users/budimanjojo/repos\",\"events_url\":\"https://api.github.com/users/budimanjojo/events{/privacy}\",\"received_events_url\":\"https://api.github.com/users/budimanjojo/received_events\",\"type\":\"User\",\"site_admin\":false},\"html_url\":\"https://github.com/budimanjojo/dotfiles\",\"description\":\"My dotfiles are here, managed with Chezmoi and NixOS Flakes\",\"fork\":false,\"url\":\"https://api.github.com/repos/budimanjojo/dotfiles\",\"forks_url\":\"https://api.github.com/repos/budimanjojo/dotfiles/forks\",\"keys_url\":\"https://api.github.com/repos/budimanjojo/dotfiles/keys{/key_id}\",\"collaborators_url\":\"https://api.github.com/repos/budimanjojo/dotfiles/collaborators{/collaborator}\",\"teams_url\":\"https://api.github.com/repos/budimanjojo/dotfiles/teams\",\"hooks_url\":\"https://api.github.com/repos/budimanjojo/dotfiles/hooks\",\"issue_events_url\":\"https://api.github.com/repos/budimanjojo/dotfiles/issues/events{/number}\",\"events_url\":\"https://api.github.com/repos/budimanjojo/dotfiles/events\",\"assignees_url\":\"https://api.github.com/repos/budimanjojo/dotfiles/assignees{/user}\",\"branches_url\":\"https://api.github.com/repos/budimanjojo/dotfiles/branches{/branch}\",\"tags_url\":\"https://api.github.com/repos/budimanjojo/dotfiles/tags\",\"blobs_url\":\"https://api.github.com/repos/budimanjojo/dotfiles/git/blobs{/sha}\",\"git_tags_url\":\"https://api.github.com/repos/budimanjojo/dotfiles/git/tags{/sha}\",\"git_refs_url\":\"https://api.github.com/repos/budimanjojo/dotfiles/git/refs{/sha}\",\"trees_url\":\"https://api.github.com/repos/budimanjojo/dotfiles/git/trees{/sha}\",\"statuses_url\":\"https://api.github.com/repos/budimanjojo/dotfiles/statuses/{sha}\",\"languages_url\":\"https://api.github.com/repos/budimanjojo/dotfiles/languages\",\"stargazers_url\":\"https://api.github.com/repos/budimanjojo/dotfiles/stargazers\",\"contributors_url\":\"https://api.github.com/repos/budimanjojo/dotfiles/contributors\",\"subscribers_url\":\"https://api.github.com/repos/budimanjojo/dotfiles/subscribers\",\"subscription_url\":\"https://api.github.com/repos/budimanjojo/dotfiles/subscription\",\"commits_url\":\"https://api.github.com/repos/budimanjojo/dotfiles/commits{/sha}\",\"git_commits_url\":\"https://api.github.com/repos/budimanjojo/dotfiles/git/commits{/sha}\",\"comments_url\":\"https://api.github.com/repos/budimanjojo/dotfiles/comments{/number}\",\"issue_comment_url\":\"https://api.github.com/repos/budimanjojo/dotfiles/issues/comments{/number}\",\"contents_url\":\"https://api.github.com/repos/budimanjojo/dotfiles/contents/{+path}\",\"compare_url\":\"https://api.github.com/repos/budimanjojo/dotfiles/compare/{base}...{head}\",\"merges_url\":\"https://api.github.com/repos/budimanjojo/dotfiles/merges\",\"archive_url\":\"https://api.github.com/repos/budimanjojo/dotfiles/{archive_format}{/ref}\",\"downloads_url\":\"https://api.github.com/repos/budimanjojo/dotfiles/downloads\",\"issues_url\":\"https://api.github.com/repos/budimanjojo/dotfiles/issues{/number}\",\"pulls_url\":\"https://api.github.com/repos/budimanjojo/dotfiles/pulls{/number}\",\"milestones_url\":\"https://api.github.com/repos/budimanjojo/dotfiles/milestones{/number}\",\"notifications_url\":\"https://api.github.com/repos/budimanjojo/dotfiles/notifications{?since,all,participating}\",\"labels_url\":\"https://api.github.com/repos/budimanjojo/dotfiles/labels{/name}\",\"releases_url\":\"https://api.github.com/repos/budimanjojo/dotfiles/releases{/id}\",\"deployments_url\":\"https://api.github.com/repos/budimanjojo/dotfiles/deployments\",\"created_at\":\"2016-07-28T05:35:02Z\",\"updated_at\":\"2024-07-10T04:23:20Z\",\"pushed_at\":\"2024-07-10T18:28:14Z\",\"git_url\":\"git://github.com/budimanjojo/dotfiles.git\",\"ssh_url\":\"git@github.com:budimanjojo/dotfiles.git\",\"clone_url\":\"https://github.com/budimanjojo/dotfiles.git\",\"svn_url\":\"https://github.com/budimanjojo/dotfiles\",\"homepage\":\"\",\"size\":3097,\"stargazers_count\":202,\"watchers_count\":202,\"language\":\"Nix\",\"has_issues\":true,\"has_projects\":false,\"has_downloads\":false,\"has_wiki\":false,\"has_pages\":false,\"has_discussions\":false,\"forks_count\":8,\"mirror_url\":null,\"archived\":false,\"disabled\":false,\"open_issues_count\":2,\"license\":{\"key\":\"unlicense\",\"name\":\"The Unlicense\",\"spdx_id\":\"Unlicense\",\"url\":\"https://api.github.com/licenses/unlicense\",\"node_id\":\"MDc6TGljZW5zZTE1\"},\"allow_forking\":true,\"is_template\":false,\"web_commit_signoff_required\":false,\"topics\":[\"chezmoi\",\"dotfiles\",\"fish\",\"fluxcd\",\"hyprland\",\"kubectl\",\"neovim\",\"nixos\",\"nixos-config\",\"nvim\",\"nvim-lua\",\"rofi\",\"tmux\",\"vim\",\"vimrc\",\"waybar\",\"zellij\"],\"visibility\":\"public\",\"forks\":8,\"open_issues\":2,\"watchers\":202,\"default_branch\":\"main\"}},\"_links\":{\"self\":{\"href\":\"https://api.github.com/repos/budimanjojo/dotfiles/pulls/3317\"},\"html\":{\"href\":\"https://github.com/budimanjojo/dotfiles/pull/3317\"},\"issue\":{\"href\":\"https://api.github.com/repos/budimanjojo/dotfiles/issues/3317\"},\"comments\":{\"href\":\"https://api.github.com/repos/budimanjojo/dotfiles/issues/3317/comments\"},\"review_comments\":{\"href\":\"https://api.github.com/repos/budimanjojo/dotfiles/pulls/3317/comments\"},\"review_comment\":{\"href\":\"https://api.github.com/repos/budimanjojo/dotfiles/pulls/comments{/number}\"},\"commits\":{\"href\":\"https://api.github.com/repos/budimanjojo/dotfiles/pulls/3317/commits\"},\"statuses\":{\"href\":\"https://api.github.com/repos/budimanjojo/dotfiles/statuses/2a812f7bbb37ebb5626172f608053257b0311a33\"}},\"author_association\":\"CONTRIBUTOR\",\"auto_merge\":null,\"active_lock_reason\":null,\"merged\":true,\"mergeable\":null,\"rebaseable\":null,\"mergeable_state\":\"unknown\",\"merged_by\":{\"login\":\"budimanjojo-bot[bot]\",\"id\":111944664,\"node_id\":\"BOT_kgDOBqwj2A\",\"avatar_url\":\"https://avatars.githubusercontent.com/in/231300?v=4\",\"gravatar_id\":\"\",\"url\":\"https://api.github.com/users/budimanjojo-bot%5Bbot%5D\",\"html_url\":\"https://github.com/apps/budimanjojo-bot\",\"followers_url\":\"https://api.github.com/users/budimanjojo-bot%5Bbot%5D/followers\",\"following_url\":\"https://api.github.com/users/budimanjojo-bot%5Bbot%5D/following{/other_user}\",\"gists_url\":\"https://api.github.com/users/budimanjojo-bot%5Bbot%5D/gists{/gist_id}\",\"starred_url\":\"https://api.github.com/users/budimanjojo-bot%5Bbot%5D/starred{/owner}{/repo}\",\"subscriptions_url\":\"https://api.github.com/users/budimanjojo-bot%5Bbot%5D/subscriptions\",\"organizations_url\":\"https://api.github.com/users/budimanjojo-bot%5Bbot%5D/orgs\",\"repos_url\":\"https://api.github.com/users/budimanjojo-bot%5Bbot%5D/repos\",\"events_url\":\"https://api.github.com/users/budimanjojo-bot%5Bbot%5D/events{/privacy}\",\"received_events_url\":\"https://api.github.com/users/budimanjojo-bot%5Bbot%5D/received_events\",\"type\":\"Bot\",\"site_admin\":false},\"comments\":0,\"review_comments\":0,\"maintainer_can_modify\":false,\"commits\":1,\"additions\":12,\"deletions\":12,\"changed_files\":1}},\"public\":true,\"created_at\":\"2024-07-10T18:28:16Z\"},{\"id\":\"40038351229\",\"type\":\"PullRequestEvent\",\"actor\":{\"id\":161984518,\"login\":\"ALAx1216\",\"display_login\":\"ALAx1216\",\"gravatar_id\":\"\",\"url\":\"https://api.github.com/users/ALAx1216\",\"avatar_url\":\"https://avatars.githubusercontent.com/u/161984518?\"},\"repo\":{\"id\":768948329,\"name\":\"ALAx1216/fgxgm-SecurityCheckSample\",\"url\":\"https://api.github.com/repos/ALAx1216/fgxgm-SecurityCheckSample\"},\"payload\":{\"action\":\"opened\",\"number\":15,\"pull_request\":{\"url\":\"https://api.github.com/repos/ALAx1216/fgxgm-SecurityCheckSample/pulls/15\",\"id\":1962982725,\"node_id\":\"PR_kwDOLdU4ac51AL1F\",\"html_url\":\"https://github.com/ALAx1216/fgxgm-SecurityCheckSample/pull/15\",\"diff_url\":\"https://github.com/ALAx1216/fgxgm-SecurityCheckSample/pull/15.diff\",\"patch_url\":\"https://github.com/ALAx1216/fgxgm-SecurityCheckSample/pull/15.patch\",\"issue_url\":\"https://api.github.com/repos/ALAx1216/fgxgm-SecurityCheckSample/issues/15\",\"number\":15,\"state\":\"open\",\"locked\":false,\"title\":\"[Snyk] Security upgrade node from 18.17.1 to 18.20.4\",\"user\":{\"login\":\"ALAx1216\",\"id\":161984518,\"node_id\":\"U_kgDOCaewBg\",\"avatar_url\":\"https://avatars.githubusercontent.com/u/161984518?v=4\",\"gravatar_id\":\"\",\"url\":\"https://api.github.com/users/ALAx1216\",\"html_url\":\"https://github.com/ALAx1216\",\"followers_url\":\"https://api.github.com/users/ALAx1216/followers\",\"following_url\":\"https://api.github.com/users/ALAx1216/following{/other_user}\",\"gists_url\":\"https://api.github.com/users/ALAx1216/gists{/gist_id}\",\"starred_url\":\"https://api.github.com/users/ALAx1216/starred{/owner}{/repo}\",\"subscriptions_url\":\"https://api.github.com/users/ALAx1216/subscriptions\",\"organizations_url\":\"https://api.github.com/users/ALAx1216/orgs\",\"repos_url\":\"https://api.github.com/users/ALAx1216/repos\",\"events_url\":\"https://api.github.com/users/ALAx1216/events{/privacy}\",\"received_events_url\":\"https://api.github.com/users/ALAx1216/received_events\",\"type\":\"User\",\"site_admin\":false},\"body\":\"<p>This PR was automatically created by Snyk using the credentials of a real user.</p><br />![snyk-top-banner](https://github.com/andygongea/OWASP-Benchmark/assets/818805/c518c423-16fe-447e-b67f-ad5a49b5d123)\\\\n\\\\n### Snyk has created this PR to fix 2 vulnerabilities in the dockerfile dependencies of this project.\\\\n\\\\nKeeping your Docker base image up-to-date means you’ll benefit from security fixes in the latest version of your chosen image.\\\\n\\\\n#### Snyk changed the following file(s):\\\\n\\\\n- `Dockerfile`\\\\n\\\\nWe recommend upgrading to `node:18.20.4`, as this image has only **183** known vulnerabilities. To do this, merge this pull request, then verify your application still works as expected.\\\\n\\\\n\\\\n\\\\n#### Vulnerabilities that will be fixed with an upgrade:\\\\n\\\\n|  | Issue | Score | \\\\n:-------------------------:|:-------------------------|:-------------------------\\\\n![high severity](https://res.cloudinary.com/snyk/image/upload/w_20,h_20/v1561977819/icon/h.png \\'high severity\\') | Resource Exhaustion <br/>[SNYK-DEBIAN12-NGHTTP2-5953379](https://snyk.io/vuln/SNYK-DEBIAN12-NGHTTP2-5953379) | &nbsp;&nbsp;**844**&nbsp;&nbsp; \\\\n![high severity](https://res.cloudinary.com/snyk/image/upload/w_20,h_20/v1561977819/icon/h.png \\'high severity\\') | Out-of-bounds Write <br/>[SNYK-DEBIAN12-GLIBC-5927132](https://snyk.io/vuln/SNYK-DEBIAN12-GLIBC-5927132) | &nbsp;&nbsp;**829**&nbsp;&nbsp; \\\\n![high severity](https://res.cloudinary.com/snyk/image/upload/w_20,h_20/v1561977819/icon/h.png \\'high severity\\') | Out-of-bounds Write <br/>[SNYK-DEBIAN12-GLIBC-5927132](https://snyk.io/vuln/SNYK-DEBIAN12-GLIBC-5927132) | &nbsp;&nbsp;**829**&nbsp;&nbsp; \\\\n![high severity](https://res.cloudinary.com/snyk/image/upload/w_20,h_20/v1561977819/icon/h.png \\'high severity\\') | Out-of-bounds Write <br/>[SNYK-DEBIAN12-GLIBC-5927132](https://snyk.io/vuln/SNYK-DEBIAN12-GLIBC-5927132) | &nbsp;&nbsp;**829**&nbsp;&nbsp; \\\\n![high severity](https://res.cloudinary.com/snyk/image/upload/w_20,h_20/v1561977819/icon/h.png \\'high severity\\') | Out-of-bounds Write <br/>[SNYK-DEBIAN12-GLIBC-5927132](https://snyk.io/vuln/SNYK-DEBIAN12-GLIBC-5927132) | &nbsp;&nbsp;**829**&nbsp;&nbsp; \\\\n\\\\n\\\\n\\\\n---\\\\n\\\\n> [!IMPORTANT]\\\\n>\\\\n> - Check the changes in this PR to ensure they won\\'t cause issues with your project.\\\\n> - Max score is 1000. Note that the real score may have changed since the PR was raised.\\\\n> - This PR was automatically created by Snyk using the credentials of a real user.\\\\n\\\\n---\\\\n\\\\n**Note:** _You are seeing this because you or someone else with access to this repository has authorized Snyk to open fix PRs._\\\\n\\\\nFor more information: <img src=\\\\\"https://api.segment.io/v1/pixel/track?data=eyJ3cml0ZUtleSI6InJyWmxZcEdHY2RyTHZsb0lYd0dUcVg4WkFRTnNCOUEwIiwiYW5vbnltb3VzSWQiOiJlM2M2YWUxMS1mNzhkLTRmMmYtYThmMC0zZDkzZjM0YzA5YWMiLCJldmVudCI6IlBSIHZpZXdlZCIsInByb3BlcnRpZXMiOnsicHJJZCI6ImUzYzZhZTExLWY3OGQtNGYyZi1hOGYwLTNkOTNmMzRjMDlhYyJ9fQ==\\\\\" width=\\\\\"0\\\\\" height=\\\\\"0\\\\\"/>\\\\n🧐 [View latest project report](https://app.snyk.io/org/alax1216/project/3bef581f-4bba-493b-a17e-86e5ef4da91b?utm_source&#x3D;github&amp;utm_medium&#x3D;referral&amp;page&#x3D;fix-pr)\\\\n📜 [Customise PR templates](https://docs.snyk.io/scan-using-snyk/pull-requests/snyk-fix-pull-or-merge-requests/customize-pr-templates)\\\\n🛠 [Adjust project settings](https://app.snyk.io/org/alax1216/project/3bef581f-4bba-493b-a17e-86e5ef4da91b?utm_source&#x3D;github&amp;utm_medium&#x3D;referral&amp;page&#x3D;fix-pr/settings)\\\\n📚 [Read about Snyk\\'s upgrade logic](https://support.snyk.io/hc/en-us/articles/360003891078-Snyk-patches-to-fix-vulnerabilities)\\\\n\\\\n---\\\\n\\\\n**Learn how to fix vulnerabilities with free interactive lessons:**\\\\n\\\\n🦉 [Resource Exhaustion](https://learn.snyk.io/lesson/redos/?loc&#x3D;fix-pr)\\\\n\\\\n[//]: # \\'snyk:metadata:{\\\\\"customTemplate\\\\\":{\\\\\"variablesUsed\\\\\":[],\\\\\"fieldsUsed\\\\\":[]},\\\\\"dependencies\\\\\":[{\\\\\"name\\\\\":\\\\\"node\\\\\",\\\\\"from\\\\\":\\\\\"18.17.1\\\\\",\\\\\"to\\\\\":\\\\\"18.20.4\\\\\"}],\\\\\"env\\\\\":\\\\\"prod\\\\\",\\\\\"issuesToFix\\\\\":[{\\\\\"exploit_maturity\\\\\":\\\\\"Mature\\\\\",\\\\\"id\\\\\":\\\\\"SNYK-DEBIAN12-NGHTTP2-5953379\\\\\",\\\\\"priority_score\\\\\":844,\\\\\"priority_score_factors\\\\\":[{\\\\\"type\\\\\":\\\\\"socialTrends\\\\\",\\\\\"label\\\\\":true,\\\\\"score\\\\\":111},{\\\\\"type\\\\\":\\\\\"exploit\\\\\",\\\\\"label\\\\\":\\\\\"High\\\\\",\\\\\"score\\\\\":167},{\\\\\"type\\\\\":\\\\\"fixability\\\\\",\\\\\"label\\\\\":true,\\\\\"score\\\\\":167},{\\\\\"type\\\\\":\\\\\"severity\\\\\",\\\\\"label\\\\\":\\\\\"high\\\\\",\\\\\"score\\\\\":400},{\\\\\"type\\\\\":\\\\\"scoreVersion\\\\\",\\\\\"label\\\\\":\\\\\"v1\\\\\",\\\\\"score\\\\\":1}],\\\\\"severity\\\\\":\\\\\"high\\\\\",\\\\\"title\\\\\":\\\\\"Resource Exhaustion\\\\\"},{\\\\\"exploit_maturity\\\\\":\\\\\"Mature\\\\\",\\\\\"id\\\\\":\\\\\"SNYK-DEBIAN12-GLIBC-5927132\\\\\",\\\\\"priority_score\\\\\":829,\\\\\"priority_score_factors\\\\\":[{\\\\\"type\\\\\":\\\\\"exploit\\\\\",\\\\\"label\\\\\":\\\\\"High\\\\\",\\\\\"score\\\\\":214},{\\\\\"type\\\\\":\\\\\"fixability\\\\\",\\\\\"label\\\\\":true,\\\\\"score\\\\\":214},{\\\\\"type\\\\\":\\\\\"severity\\\\\",\\\\\"label\\\\\":\\\\\"high\\\\\",\\\\\"score\\\\\":400},{\\\\\"type\\\\\":\\\\\"scoreVersion\\\\\",\\\\\"label\\\\\":\\\\\"v1\\\\\",\\\\\"score\\\\\":1}],\\\\\"severity\\\\\":\\\\\"high\\\\\",\\\\\"title\\\\\":\\\\\"Out-of-bounds Write\\\\\"},{\\\\\"exploit_maturity\\\\\":\\\\\"Mature\\\\\",\\\\\"id\\\\\":\\\\\"SNYK-DEBIAN12-GLIBC-5927132\\\\\",\\\\\"priority_score\\\\\":829,\\\\\"priority_score_factors\\\\\":[{\\\\\"type\\\\\":\\\\\"exploit\\\\\",\\\\\"label\\\\\":\\\\\"High\\\\\",\\\\\"score\\\\\":214},{\\\\\"type\\\\\":\\\\\"fixability\\\\\",\\\\\"label\\\\\":true,\\\\\"score\\\\\":214},{\\\\\"type\\\\\":\\\\\"severity\\\\\",\\\\\"label\\\\\":\\\\\"high\\\\\",\\\\\"score\\\\\":400},{\\\\\"type\\\\\":\\\\\"scoreVersion\\\\\",\\\\\"label\\\\\":\\\\\"v1\\\\\",\\\\\"score\\\\\":1}],\\\\\"severity\\\\\":\\\\\"high\\\\\",\\\\\"title\\\\\":\\\\\"Out-of-bounds Write\\\\\"},{\\\\\"exploit_maturity\\\\\":\\\\\"Mature\\\\\",\\\\\"id\\\\\":\\\\\"SNYK-DEBIAN12-GLIBC-5927132\\\\\",\\\\\"priority_score\\\\\":829,\\\\\"priority_score_factors\\\\\":[{\\\\\"type\\\\\":\\\\\"exploit\\\\\",\\\\\"label\\\\\":\\\\\"High\\\\\",\\\\\"score\\\\\":214},{\\\\\"type\\\\\":\\\\\"fixability\\\\\",\\\\\"label\\\\\":true,\\\\\"score\\\\\":214},{\\\\\"type\\\\\":\\\\\"severity\\\\\",\\\\\"label\\\\\":\\\\\"high\\\\\",\\\\\"score\\\\\":400},{\\\\\"type\\\\\":\\\\\"scoreVersion\\\\\",\\\\\"label\\\\\":\\\\\"v1\\\\\",\\\\\"score\\\\\":1}],\\\\\"severity\\\\\":\\\\\"high\\\\\",\\\\\"title\\\\\":\\\\\"Out-of-bounds Write\\\\\"},{\\\\\"exploit_maturity\\\\\":\\\\\"Mature\\\\\",\\\\\"id\\\\\":\\\\\"SNYK-DEBIAN12-GLIBC-5927132\\\\\",\\\\\"priority_score\\\\\":829,\\\\\"priority_score_factors\\\\\":[{\\\\\"type\\\\\":\\\\\"exploit\\\\\",\\\\\"label\\\\\":\\\\\"High\\\\\",\\\\\"score\\\\\":214},{\\\\\"type\\\\\":\\\\\"fixability\\\\\",\\\\\"label\\\\\":true,\\\\\"score\\\\\":214},{\\\\\"type\\\\\":\\\\\"severity\\\\\",\\\\\"label\\\\\":\\\\\"high\\\\\",\\\\\"score\\\\\":400},{\\\\\"type\\\\\":\\\\\"scoreVersion\\\\\",\\\\\"label\\\\\":\\\\\"v1\\\\\",\\\\\"score\\\\\":1}],\\\\\"severity\\\\\":\\\\\"high\\\\\",\\\\\"title\\\\\":\\\\\"Out-of-bounds Write\\\\\"}],\\\\\"prId\\\\\":\\\\\"e3c6ae11-f78d-4f2f-a8f0-3d93f34c09ac\\\\\",\\\\\"prPublicId\\\\\":\\\\\"e3c6ae11-f78d-4f2f-a8f0-3d93f34c09ac\\\\\",\\\\\"packageManager\\\\\":\\\\\"dockerfile\\\\\",\\\\\"priorityScoreList\\\\\":[844,829],\\\\\"projectPublicId\\\\\":\\\\\"3bef581f-4bba-493b-a17e-86e5ef4da91b\\\\\",\\\\\"projectUrl\\\\\":\\\\\"https://app.snyk.io/org/alax1216/project/3bef581f-4bba-493b-a17e-86e5ef4da91b?utm_source=github&utm_medium=referral&page=fix-pr\\\\\",\\\\\"prType\\\\\":\\\\\"fix\\\\\",\\\\\"templateFieldSources\\\\\":{\\\\\"branchName\\\\\":\\\\\"default\\\\\",\\\\\"commitMessage\\\\\":\\\\\"default\\\\\",\\\\\"description\\\\\":\\\\\"default\\\\\",\\\\\"title\\\\\":\\\\\"default\\\\\"},\\\\\"templateVariants\\\\\":[\\\\\"updated-fix-title\\\\\",\\\\\"priorityScore\\\\\"],\\\\\"type\\\\\":\\\\\"auto\\\\\",\\\\\"upgrade\\\\\":[\\\\\"SNYK-DEBIAN12-GLIBC-5927132\\\\\",\\\\\"SNYK-DEBIAN12-GLIBC-5927132\\\\\",\\\\\"SNYK-DEBIAN12-GLIBC-5927132\\\\\",\\\\\"SNYK-DEBIAN12-GLIBC-5927132\\\\\",\\\\\"SNYK-DEBIAN12-NGHTTP2-5953379\\\\\"],\\\\\"vulns\\\\\":[\\\\\"SNYK-DEBIAN12-NGHTTP2-5953379\\\\\",\\\\\"SNYK-DEBIAN12-GLIBC-5927132\\\\\"],\\\\\"patch\\\\\":[],\\\\\"isBreakingChange\\\\\":false,\\\\\"remediationStrategy\\\\\":\\\\\"vuln\\\\\"}\\'\\\\n\",\"created_at\":\"2024-07-10T18:28:14Z\",\"updated_at\":\"2024-07-10T18:28:14Z\",\"closed_at\":null,\"merged_at\":null,\"merge_commit_sha\":\"e417599432df5a235f49646628ff9bdc79e7a224\",\"assignee\":null,\"assignees\":[],\"requested_reviewers\":[],\"requested_teams\":[],\"labels\":[],\"milestone\":null,\"draft\":false,\"commits_url\":\"https://api.github.com/repos/ALAx1216/fgxgm-SecurityCheckSample/pulls/15/commits\",\"review_comments_url\":\"https://api.github.com/repos/ALAx1216/fgxgm-SecurityCheckSample/pulls/15/comments\",\"review_comment_url\":\"https://api.github.com/repos/ALAx1216/fgxgm-SecurityCheckSample/pulls/comments{/number}\",\"comments_url\":\"https://api.github.com/repos/ALAx1216/fgxgm-SecurityCheckSample/issues/15/comments\",\"statuses_url\":\"https://api.github.com/repos/ALAx1216/fgxgm-SecurityCheckSample/statuses/5ebad86b29e2a6bf2bd8e239259c0f78ddda1134\",\"head\":{\"label\":\"ALAx1216:snyk-fix-0976d057c01f1b94b57a1a43a819cbca\",\"ref\":\"snyk-fix-0976d057c01f1b94b57a1a43a819cbca\",\"sha\":\"5ebad86b29e2a6bf2bd8e239259c0f78ddda1134\",\"user\":{\"login\":\"ALAx1216\",\"id\":161984518,\"node_id\":\"U_kgDOCaewBg\",\"avatar_url\":\"https://avatars.githubusercontent.com/u/161984518?v=4\",\"gravatar_id\":\"\",\"url\":\"https://api.github.com/users/ALAx1216\",\"html_url\":\"https://github.com/ALAx1216\",\"followers_url\":\"https://api.github.com/users/ALAx1216/followers\",\"following_url\":\"https://api.github.com/users/ALAx1216/following{/other_user}\",\"gists_url\":\"https://api.github.com/users/ALAx1216/gists{/gist_id}\",\"starred_url\":\"https://api.github.com/users/ALAx1216/starred{/owner}{/repo}\",\"subscriptions_url\":\"https://api.github.com/users/ALAx1216/subscriptions\",\"organizations_url\":\"https://api.github.com/users/ALAx1216/orgs\",\"repos_url\":\"https://api.github.com/users/ALAx1216/repos\",\"events_url\":\"https://api.github.com/users/ALAx1216/events{/privacy}\",\"received_events_url\":\"https://api.github.com/users/ALAx1216/received_events\",\"type\":\"User\",\"site_admin\":false},\"repo\":{\"id\":768948329,\"node_id\":\"R_kgDOLdU4aQ\",\"name\":\"fgxgm-SecurityCheckSample\",\"full_name\":\"ALAx1216/fgxgm-SecurityCheckSample\",\"private\":false,\"owner\":{\"login\":\"ALAx1216\",\"id\":161984518,\"node_id\":\"U_kgDOCaewBg\",\"avatar_url\":\"https://avatars.githubusercontent.com/u/161984518?v=4\",\"gravatar_id\":\"\",\"url\":\"https://api.github.com/users/ALAx1216\",\"html_url\":\"https://github.com/ALAx1216\",\"followers_url\":\"https://api.github.com/users/ALAx1216/followers\",\"following_url\":\"https://api.github.com/users/ALAx1216/following{/other_user}\",\"gists_url\":\"https://api.github.com/users/ALAx1216/gists{/gist_id}\",\"starred_url\":\"https://api.github.com/users/ALAx1216/starred{/owner}{/repo}\",\"subscriptions_url\":\"https://api.github.com/users/ALAx1216/subscriptions\",\"organizations_url\":\"https://api.github.com/users/ALAx1216/orgs\",\"repos_url\":\"https://api.github.com/users/ALAx1216/repos\",\"events_url\":\"https://api.github.com/users/ALAx1216/events{/privacy}\",\"received_events_url\":\"https://api.github.com/users/ALAx1216/received_events\",\"type\":\"User\",\"site_admin\":false},\"html_url\":\"https://github.com/ALAx1216/fgxgm-SecurityCheckSample\",\"description\":\"SecurityCheckSample\",\"fork\":true,\"url\":\"https://api.github.com/repos/ALAx1216/fgxgm-SecurityCheckSample\",\"forks_url\":\"https://api.github.com/repos/ALAx1216/fgxgm-SecurityCheckSample/forks\",\"keys_url\":\"https://api.github.com/repos/ALAx1216/fgxgm-SecurityCheckSample/keys{/key_id}\",\"collaborators_url\":\"https://api.github.com/repos/ALAx1216/fgxgm-SecurityCheckSample/collaborators{/collaborator}\",\"teams_url\":\"https://api.github.com/repos/ALAx1216/fgxgm-SecurityCheckSample/teams\",\"hooks_url\":\"https://api.github.com/repos/ALAx1216/fgxgm-SecurityCheckSample/hooks\",\"issue_events_url\":\"https://api.github.com/repos/ALAx1216/fgxgm-SecurityCheckSample/issues/events{/number}\",\"events_url\":\"https://api.github.com/repos/ALAx1216/fgxgm-SecurityCheckSample/events\",\"assignees_url\":\"https://api.github.com/repos/ALAx1216/fgxgm-SecurityCheckSample/assignees{/user}\",\"branches_url\":\"https://api.github.com/repos/ALAx1216/fgxgm-SecurityCheckSample/branches{/branch}\",\"tags_url\":\"https://api.github.com/repos/ALAx1216/fgxgm-SecurityCheckSample/tags\",\"blobs_url\":\"https://api.github.com/repos/ALAx1216/fgxgm-SecurityCheckSample/git/blobs{/sha}\",\"git_tags_url\":\"https://api.github.com/repos/ALAx1216/fgxgm-SecurityCheckSample/git/tags{/sha}\",\"git_refs_url\":\"https://api.github.com/repos/ALAx1216/fgxgm-SecurityCheckSample/git/refs{/sha}\",\"trees_url\":\"https://api.github.com/repos/ALAx1216/fgxgm-SecurityCheckSample/git/trees{/sha}\",\"statuses_url\":\"https://api.github.com/repos/ALAx1216/fgxgm-SecurityCheckSample/statuses/{sha}\",\"languages_url\":\"https://api.github.com/repos/ALAx1216/fgxgm-SecurityCheckSample/languages\",\"stargazers_url\":\"https://api.github.com/repos/ALAx1216/fgxgm-SecurityCheckSample/stargazers\",\"contributors_url\":\"https://api.github.com/repos/ALAx1216/fgxgm-SecurityCheckSample/contributors\",\"subscribers_url\":\"https://api.github.com/repos/ALAx1216/fgxgm-SecurityCheckSample/subscribers\",\"subscription_url\":\"https://api.github.com/repos/ALAx1216/fgxgm-SecurityCheckSample/subscription\",\"commits_url\":\"https://api.github.com/repos/ALAx1216/fgxgm-SecurityCheckSample/commits{/sha}\",\"git_commits_url\":\"https://api.github.com/repos/ALAx1216/fgxgm-SecurityCheckSample/git/commits{/sha}\",\"comments_url\":\"https://api.github.com/repos/ALAx1216/fgxgm-SecurityCheckSample/comments{/number}\",\"issue_comment_url\":\"https://api.github.com/repos/ALAx1216/fgxgm-SecurityCheckSample/issues/comments{/number}\",\"contents_url\":\"https://api.github.com/repos/ALAx1216/fgxgm-SecurityCheckSample/contents/{+path}\",\"compare_url\":\"https://api.github.com/repos/ALAx1216/fgxgm-SecurityCheckSample/compare/{base}...{head}\",\"merges_url\":\"https://api.github.com/repos/ALAx1216/fgxgm-SecurityCheckSample/merges\",\"archive_url\":\"https://api.github.com/repos/ALAx1216/fgxgm-SecurityCheckSample/{archive_format}{/ref}\",\"downloads_url\":\"https://api.github.com/repos/ALAx1216/fgxgm-SecurityCheckSample/downloads\",\"issues_url\":\"https://api.github.com/repos/ALAx1216/fgxgm-SecurityCheckSample/issues{/number}\",\"pulls_url\":\"https://api.github.com/repos/ALAx1216/fgxgm-SecurityCheckSample/pulls{/number}\",\"milestones_url\":\"https://api.github.com/repos/ALAx1216/fgxgm-SecurityCheckSample/milestones{/number}\",\"notifications_url\":\"https://api.github.com/repos/ALAx1216/fgxgm-SecurityCheckSample/notifications{?since,all,participating}\",\"labels_url\":\"https://api.github.com/repos/ALAx1216/fgxgm-SecurityCheckSample/labels{/name}\",\"releases_url\":\"https://api.github.com/repos/ALAx1216/fgxgm-SecurityCheckSample/releases{/id}\",\"deployments_url\":\"https://api.github.com/repos/ALAx1216/fgxgm-SecurityCheckSample/deployments\",\"created_at\":\"2024-03-08T03:02:43Z\",\"updated_at\":\"2024-03-08T03:08:28Z\",\"pushed_at\":\"2024-07-10T18:28:15Z\",\"git_url\":\"git://github.com/ALAx1216/fgxgm-SecurityCheckSample.git\",\"ssh_url\":\"git@github.com:ALAx1216/fgxgm-SecurityCheckSample.git\",\"clone_url\":\"https://github.com/ALAx1216/fgxgm-SecurityCheckSample.git\",\"svn_url\":\"https://github.com/ALAx1216/fgxgm-SecurityCheckSample\",\"homepage\":null,\"size\":3344,\"stargazers_count\":0,\"watchers_count\":0,\"language\":\"HTML\",\"has_issues\":false,\"has_projects\":true,\"has_downloads\":true,\"has_wiki\":true,\"has_pages\":false,\"has_discussions\":false,\"forks_count\":0,\"mirror_url\":null,\"archived\":false,\"disabled\":false,\"open_issues_count\":15,\"license\":{\"key\":\"apache-2.0\",\"name\":\"Apache License 2.0\",\"spdx_id\":\"Apache-2.0\",\"url\":\"https://api.github.com/licenses/apache-2.0\",\"node_id\":\"MDc6TGljZW5zZTI=\"},\"allow_forking\":true,\"is_template\":false,\"web_commit_signoff_required\":false,\"topics\":[],\"visibility\":\"public\",\"forks\":0,\"open_issues\":15,\"watchers\":0,\"default_branch\":\"main\"}},\"base\":{\"label\":\"ALAx1216:main\",\"ref\":\"main\",\"sha\":\"dc0b58e6ec517c2a233c1e4d2e7db0177554be21\",\"user\":{\"login\":\"ALAx1216\",\"id\":161984518,\"node_id\":\"U_kgDOCaewBg\",\"avatar_url\":\"https://avatars.githubusercontent.com/u/161984518?v=4\",\"gravatar_id\":\"\",\"url\":\"https://api.github.com/users/ALAx1216\",\"html_url\":\"https://github.com/ALAx1216\",\"followers_url\":\"https://api.github.com/users/ALAx1216/followers\",\"following_url\":\"https://api.github.com/users/ALAx1216/following{/other_user}\",\"gists_url\":\"https://api.github.com/users/ALAx1216/gists{/gist_id}\",\"starred_url\":\"https://api.github.com/users/ALAx1216/starred{/owner}{/repo}\",\"subscriptions_url\":\"https://api.github.com/users/ALAx1216/subscriptions\",\"organizations_url\":\"https://api.github.com/users/ALAx1216/orgs\",\"repos_url\":\"https://api.github.com/users/ALAx1216/repos\",\"events_url\":\"https://api.github.com/users/ALAx1216/events{/privacy}\",\"received_events_url\":\"https://api.github.com/users/ALAx1216/received_events\",\"type\":\"User\",\"site_admin\":false},\"repo\":{\"id\":768948329,\"node_id\":\"R_kgDOLdU4aQ\",\"name\":\"fgxgm-SecurityCheckSample\",\"full_name\":\"ALAx1216/fgxgm-SecurityCheckSample\",\"private\":false,\"owner\":{\"login\":\"ALAx1216\",\"id\":161984518,\"node_id\":\"U_kgDOCaewBg\",\"avatar_url\":\"https://avatars.githubusercontent.com/u/161984518?v=4\",\"gravatar_id\":\"\",\"url\":\"https://api.github.com/users/ALAx1216\",\"html_url\":\"https://github.com/ALAx1216\",\"followers_url\":\"https://api.github.com/users/ALAx1216/followers\",\"following_url\":\"https://api.github.com/users/ALAx1216/following{/other_user}\",\"gists_url\":\"https://api.github.com/users/ALAx1216/gists{/gist_id}\",\"starred_url\":\"https://api.github.com/users/ALAx1216/starred{/owner}{/repo}\",\"subscriptions_url\":\"https://api.github.com/users/ALAx1216/subscriptions\",\"organizations_url\":\"https://api.github.com/users/ALAx1216/orgs\",\"repos_url\":\"https://api.github.com/users/ALAx1216/repos\",\"events_url\":\"https://api.github.com/users/ALAx1216/events{/privacy}\",\"received_events_url\":\"https://api.github.com/users/ALAx1216/received_events\",\"type\":\"User\",\"site_admin\":false},\"html_url\":\"https://github.com/ALAx1216/fgxgm-SecurityCheckSample\",\"description\":\"SecurityCheckSample\",\"fork\":true,\"url\":\"https://api.github.com/repos/ALAx1216/fgxgm-SecurityCheckSample\",\"forks_url\":\"https://api.github.com/repos/ALAx1216/fgxgm-SecurityCheckSample/forks\",\"keys_url\":\"https://api.github.com/repos/ALAx1216/fgxgm-SecurityCheckSample/keys{/key_id}\",\"collaborators_url\":\"https://api.github.com/repos/ALAx1216/fgxgm-SecurityCheckSample/collaborators{/collaborator}\",\"teams_url\":\"https://api.github.com/repos/ALAx1216/fgxgm-SecurityCheckSample/teams\",\"hooks_url\":\"https://api.github.com/repos/ALAx1216/fgxgm-SecurityCheckSample/hooks\",\"issue_events_url\":\"https://api.github.com/repos/ALAx1216/fgxgm-SecurityCheckSample/issues/events{/number}\",\"events_url\":\"https://api.github.com/repos/ALAx1216/fgxgm-SecurityCheckSample/events\",\"assignees_url\":\"https://api.github.com/repos/ALAx1216/fgxgm-SecurityCheckSample/assignees{/user}\",\"branches_url\":\"https://api.github.com/repos/ALAx1216/fgxgm-SecurityCheckSample/branches{/branch}\",\"tags_url\":\"https://api.github.com/repos/ALAx1216/fgxgm-SecurityCheckSample/tags\",\"blobs_url\":\"https://api.github.com/repos/ALAx1216/fgxgm-SecurityCheckSample/git/blobs{/sha}\",\"git_tags_url\":\"https://api.github.com/repos/ALAx1216/fgxgm-SecurityCheckSample/git/tags{/sha}\",\"git_refs_url\":\"https://api.github.com/repos/ALAx1216/fgxgm-SecurityCheckSample/git/refs{/sha}\",\"trees_url\":\"https://api.github.com/repos/ALAx1216/fgxgm-SecurityCheckSample/git/trees{/sha}\",\"statuses_url\":\"https://api.github.com/repos/ALAx1216/fgxgm-SecurityCheckSample/statuses/{sha}\",\"languages_url\":\"https://api.github.com/repos/ALAx1216/fgxgm-SecurityCheckSample/languages\",\"stargazers_url\":\"https://api.github.com/repos/ALAx1216/fgxgm-SecurityCheckSample/stargazers\",\"contributors_url\":\"https://api.github.com/repos/ALAx1216/fgxgm-SecurityCheckSample/contributors\",\"subscribers_url\":\"https://api.github.com/repos/ALAx1216/fgxgm-SecurityCheckSample/subscribers\",\"subscription_url\":\"https://api.github.com/repos/ALAx1216/fgxgm-SecurityCheckSample/subscription\",\"commits_url\":\"https://api.github.com/repos/ALAx1216/fgxgm-SecurityCheckSample/commits{/sha}\",\"git_commits_url\":\"https://api.github.com/repos/ALAx1216/fgxgm-SecurityCheckSample/git/commits{/sha}\",\"comments_url\":\"https://api.github.com/repos/ALAx1216/fgxgm-SecurityCheckSample/comments{/number}\",\"issue_comment_url\":\"https://api.github.com/repos/ALAx1216/fgxgm-SecurityCheckSample/issues/comments{/number}\",\"contents_url\":\"https://api.github.com/repos/ALAx1216/fgxgm-SecurityCheckSample/contents/{+path}\",\"compare_url\":\"https://api.github.com/repos/ALAx1216/fgxgm-SecurityCheckSample/compare/{base}...{head}\",\"merges_url\":\"https://api.github.com/repos/ALAx1216/fgxgm-SecurityCheckSample/merges\",\"archive_url\":\"https://api.github.com/repos/ALAx1216/fgxgm-SecurityCheckSample/{archive_format}{/ref}\",\"downloads_url\":\"https://api.github.com/repos/ALAx1216/fgxgm-SecurityCheckSample/downloads\",\"issues_url\":\"https://api.github.com/repos/ALAx1216/fgxgm-SecurityCheckSample/issues{/number}\",\"pulls_url\":\"https://api.github.com/repos/ALAx1216/fgxgm-SecurityCheckSample/pulls{/number}\",\"milestones_url\":\"https://api.github.com/repos/ALAx1216/fgxgm-SecurityCheckSample/milestones{/number}\",\"notifications_url\":\"https://api.github.com/repos/ALAx1216/fgxgm-SecurityCheckSample/notifications{?since,all,participating}\",\"labels_url\":\"https://api.github.com/repos/ALAx1216/fgxgm-SecurityCheckSample/labels{/name}\",\"releases_url\":\"https://api.github.com/repos/ALAx1216/fgxgm-SecurityCheckSample/releases{/id}\",\"deployments_url\":\"https://api.github.com/repos/ALAx1216/fgxgm-SecurityCheckSample/deployments\",\"created_at\":\"2024-03-08T03:02:43Z\",\"updated_at\":\"2024-03-08T03:08:28Z\",\"pushed_at\":\"2024-07-10T18:28:15Z\",\"git_url\":\"git://github.com/ALAx1216/fgxgm-SecurityCheckSample.git\",\"ssh_url\":\"git@github.com:ALAx1216/fgxgm-SecurityCheckSample.git\",\"clone_url\":\"https://github.com/ALAx1216/fgxgm-SecurityCheckSample.git\",\"svn_url\":\"https://github.com/ALAx1216/fgxgm-SecurityCheckSample\",\"homepage\":null,\"size\":3344,\"stargazers_count\":0,\"watchers_count\":0,\"language\":\"HTML\",\"has_issues\":false,\"has_projects\":true,\"has_downloads\":true,\"has_wiki\":true,\"has_pages\":false,\"has_discussions\":false,\"forks_count\":0,\"mirror_url\":null,\"archived\":false,\"disabled\":false,\"open_issues_count\":15,\"license\":{\"key\":\"apache-2.0\",\"name\":\"Apache License 2.0\",\"spdx_id\":\"Apache-2.0\",\"url\":\"https://api.github.com/licenses/apache-2.0\",\"node_id\":\"MDc6TGljZW5zZTI=\"},\"allow_forking\":true,\"is_template\":false,\"web_commit_signoff_required\":false,\"topics\":[],\"visibility\":\"public\",\"forks\":0,\"open_issues\":15,\"watchers\":0,\"default_branch\":\"main\"}},\"_links\":{\"self\":{\"href\":\"https://api.github.com/repos/ALAx1216/fgxgm-SecurityCheckSample/pulls/15\"},\"html\":{\"href\":\"https://github.com/ALAx1216/fgxgm-SecurityCheckSample/pull/15\"},\"issue\":{\"href\":\"https://api.github.com/repos/ALAx1216/fgxgm-SecurityCheckSample/issues/15\"},\"comments\":{\"href\":\"https://api.github.com/repos/ALAx1216/fgxgm-SecurityCheckSample/issues/15/comments\"},\"review_comments\":{\"href\":\"https://api.github.com/repos/ALAx1216/fgxgm-SecurityCheckSample/pulls/15/comments\"},\"review_comment\":{\"href\":\"https://api.github.com/repos/ALAx1216/fgxgm-SecurityCheckSample/pulls/comments{/number}\"},\"commits\":{\"href\":\"https://api.github.com/repos/ALAx1216/fgxgm-SecurityCheckSample/pulls/15/commits\"},\"statuses\":{\"href\":\"https://api.github.com/repos/ALAx1216/fgxgm-SecurityCheckSample/statuses/5ebad86b29e2a6bf2bd8e239259c0f78ddda1134\"}},\"author_association\":\"OWNER\",\"auto_merge\":null,\"active_lock_reason\":null,\"merged\":false,\"mergeable\":true,\"rebaseable\":true,\"mergeable_state\":\"clean\",\"merged_by\":null,\"comments\":0,\"review_comments\":0,\"maintainer_can_modify\":false,\"commits\":1,\"additions\":1,\"deletions\":1,\"changed_files\":1}},\"public\":true,\"created_at\":\"2024-07-10T18:28:16Z\"},{\"id\":\"40038351196\",\"type\":\"PushEvent\",\"actor\":{\"id\":43107815,\"login\":\"Linux4\",\"display_login\":\"Linux4\",\"gravatar_id\":\"\",\"url\":\"https://api.github.com/users/Linux4\",\"avatar_url\":\"https://avatars.githubusercontent.com/u/43107815?\"},\"repo\":{\"id\":700865114,\"name\":\"linux4-bringup-priv/android_hardware_samsung_slsi-linaro_exynos\",\"url\":\"https://api.github.com/repos/linux4-bringup-priv/android_hardware_samsung_slsi-linaro_exynos\"},\"payload\":{\"repository_id\":700865114,\"push_id\":19261452983,\"size\":1,\"distinct_size\":1,\"ref\":\"refs/heads/recognition-mic2\",\"head\":\"419811f0108efd8993ec68c1a402f554be9ecdf1\",\"before\":\"800152d764ee12a3b24b1eb831f78ecaeade22cd\",\"commits\":[{\"sha\":\"419811f0108efd8993ec68c1a402f554be9ecdf1\",\"author\":{\"email\":\"tim@linux4.de\",\"name\":\"Tim Zimmermann\"},\"message\":\"exynos: audiohal: Always allow to reconfigure stream if voice recognition is active\\\\n\\\\n* This allows apps to use the mic even if OK google is currently using it,\\\\n  as soon as the app is done, it will be routed to recognition-mic again\\\\n\\\\nChange-Id: Ie92770db71e566ea6fc28df4d5ead1b099d15e9d\",\"distinct\":true,\"url\":\"https://api.github.com/repos/linux4-bringup-priv/android_hardware_samsung_slsi-linaro_exynos/commits/419811f0108efd8993ec68c1a402f554be9ecdf1\"}]},\"public\":true,\"created_at\":\"2024-07-10T18:28:16Z\",\"org\":{\"id\":112264628,\"login\":\"linux4-bringup-priv\",\"gravatar_id\":\"\",\"url\":\"https://api.github.com/orgs/linux4-bringup-priv\",\"avatar_url\":\"https://avatars.githubusercontent.com/u/112264628?\"}},{\"id\":\"40038351183\",\"type\":\"PushEvent\",\"actor\":{\"id\":57880066,\"login\":\"jughkoop\",\"display_login\":\"jughkoop\",\"gravatar_id\":\"\",\"url\":\"https://api.github.com/users/jughkoop\",\"avatar_url\":\"https://avatars.githubusercontent.com/u/57880066?\"},\"repo\":{\"id\":826962467,\"name\":\"jughkoop/Battleship\",\"url\":\"https://api.github.com/repos/jughkoop/Battleship\"},\"payload\":{\"repository_id\":826962467,\"push_id\":19261452980,\"size\":1,\"distinct_size\":1,\"ref\":\"refs/heads/main\",\"head\":\"f9971a3386c89bcdaff11cc1761820f396cb6d1a\",\"before\":\"dcc0ecfda680f08b1e6e1eaa6f6d4224e9356ebc\",\"commits\":[{\"sha\":\"f9971a3386c89bcdaff11cc1761820f396cb6d1a\",\"author\":{\"email\":\"57880066+jughkoop@users.noreply.github.com\",\"name\":\"Daniel Lee\"},\"message\":\"Delete Battleship.zip\",\"distinct\":true,\"url\":\"https://api.github.com/repos/jughkoop/Battleship/commits/f9971a3386c89bcdaff11cc1761820f396cb6d1a\"}]},\"public\":true,\"created_at\":\"2024-07-10T18:28:16Z\"},{\"id\":\"40038351146\",\"type\":\"PushEvent\",\"actor\":{\"id\":41898282,\"login\":\"github-actions[bot]\",\"display_login\":\"github-actions\",\"gravatar_id\":\"\",\"url\":\"https://api.github.com/users/github-actions[bot]\",\"avatar_url\":\"https://avatars.githubusercontent.com/u/41898282?\"},\"repo\":{\"id\":700380259,\"name\":\"sYamaz/tensorflow-practice\",\"url\":\"https://api.github.com/repos/sYamaz/tensorflow-practice\"},\"payload\":{\"repository_id\":700380259,\"push_id\":19261452967,\"size\":1,\"distinct_size\":1,\"ref\":\"refs/heads/main\",\"head\":\"12109c0ca913d76531ac48d73af2d09a5234c54e\",\"before\":\"096bafa1b56b370fc819ec52f8319ba5658f5c31\",\"commits\":[{\"sha\":\"12109c0ca913d76531ac48d73af2d09a5234c54e\",\"author\":{\"email\":\"sYamaz@users.noreply.github.com\",\"name\":\"sYamaz\"},\"message\":\"Commit from GitHub Actions (daily)\",\"distinct\":true,\"url\":\"https://api.github.com/repos/sYamaz/tensorflow-practice/commits/12109c0ca913d76531ac48d73af2d09a5234c54e\"}]},\"public\":true,\"created_at\":\"2024-07-10T18:28:16Z\"},{\"id\":\"40038351161\",\"type\":\"CreateEvent\",\"actor\":{\"id\":78650814,\"login\":\"CailsCodes\",\"display_login\":\"CailsCodes\",\"gravatar_id\":\"\",\"url\":\"https://api.github.com/users/CailsCodes\",\"avatar_url\":\"https://avatars.githubusercontent.com/u/78650814?\"},\"repo\":{\"id\":826964540,\"name\":\"CailsCodes/trinkey_temp_humid\",\"url\":\"https://api.github.com/repos/CailsCodes/trinkey_temp_humid\"},\"payload\":{\"ref\":\"main\",\"ref_type\":\"branch\",\"master_branch\":\"main\",\"description\":\"Arduino and CircuitPython script for interfacing with Adafruit Trinkey for Temperature and Humidity.\",\"pusher_type\":\"user\"},\"public\":true,\"created_at\":\"2024-07-10T18:28:16Z\"},{\"id\":\"40038351156\",\"type\":\"CreateEvent\",\"actor\":{\"id\":143392875,\"login\":\"Abitha-alexander\",\"display_login\":\"Abitha-alexander\",\"gravatar_id\":\"\",\"url\":\"https://api.github.com/users/Abitha-alexander\",\"avatar_url\":\"https://avatars.githubusercontent.com/u/143392875?\"},\"repo\":{\"id\":692721457,\"name\":\"Abitha-alexander/Abitha-alexander\",\"url\":\"https://api.github.com/repos/Abitha-alexander/Abitha-alexander\"},\"payload\":{\"ref\":\"main\",\"ref_type\":\"branch\",\"master_branch\":\"main\",\"description\":\"Config files for my GitHub profile.\",\"pusher_type\":\"user\"},\"public\":true,\"created_at\":\"2024-07-10T18:28:16Z\"},{\"id\":\"40038351123\",\"type\":\"PushEvent\",\"actor\":{\"id\":41898282,\"login\":\"github-actions[bot]\",\"display_login\":\"github-actions\",\"gravatar_id\":\"\",\"url\":\"https://api.github.com/users/github-actions[bot]\",\"avatar_url\":\"https://avatars.githubusercontent.com/u/41898282?\"},\"repo\":{\"id\":588315737,\"name\":\"B-Pence/B-Pence\",\"url\":\"https://api.github.com/repos/B-Pence/B-Pence\"},\"payload\":{\"repository_id\":588315737,\"push_id\":19261452953,\"size\":1,\"distinct_size\":1,\"ref\":\"refs/heads/main\",\"head\":\"b2757454e964f682c2a54703d175cd684e81f8da\",\"before\":\"d841561fdc24b559cb1c49939a4ed852c3677f05\",\"commits\":[{\"sha\":\"b2757454e964f682c2a54703d175cd684e81f8da\",\"author\":{\"email\":\"github-actions@github.com\",\"name\":\"github-actions\"},\"message\":\"generated\",\"distinct\":true,\"url\":\"https://api.github.com/repos/B-Pence/B-Pence/commits/b2757454e964f682c2a54703d175cd684e81f8da\"}]},\"public\":true,\"created_at\":\"2024-07-10T18:28:16Z\"},{\"id\":\"40038351121\",\"type\":\"PushEvent\",\"actor\":{\"id\":163599120,\"login\":\"KatrenkoVladislav\",\"display_login\":\"KatrenkoVladislav\",\"gravatar_id\":\"\",\"url\":\"https://api.github.com/users/KatrenkoVladislav\",\"avatar_url\":\"https://avatars.githubusercontent.com/u/163599120?\"},\"repo\":{\"id\":826478479,\"name\":\"KatrenkoVladislav/java-filmorate\",\"url\":\"https://api.github.com/repos/KatrenkoVladislav/java-filmorate\"},\"payload\":{\"repository_id\":826478479,\"push_id\":19261452960,\"size\":1,\"distinct_size\":1,\"ref\":\"refs/heads/controllers-films-users\",\"head\":\"3d06f43ec1fc3d78ae7aa441b655e9aa1591d54b\",\"before\":\"3502993d98bfeda26ce6d2f359f923e387b28b44\",\"commits\":[{\"sha\":\"3d06f43ec1fc3d78ae7aa441b655e9aa1591d54b\",\"author\":{\"email\":\"v.katrenko@vardex.ru\",\"name\":\"МÐKatrenko Vladislav\"},\"message\":\"Исправить CodeStyle\",\"distinct\":true,\"url\":\"https://api.github.com/repos/KatrenkoVladislav/java-filmorate/commits/3d06f43ec1fc3d78ae7aa441b655e9aa1591d54b\"}]},\"public\":true,\"created_at\":\"2024-07-10T18:28:16Z\"},{\"id\":\"40038351091\",\"type\":\"PushEvent\",\"actor\":{\"id\":2077508,\"login\":\"jrich523\",\"display_login\":\"jrich523\",\"gravatar_id\":\"\",\"url\":\"https://api.github.com/users/jrich523\",\"avatar_url\":\"https://avatars.githubusercontent.com/u/2077508?\"},\"repo\":{\"id\":564475909,\"name\":\"cyralinc/terraform-aws-repo-crawler\",\"url\":\"https://api.github.com/repos/cyralinc/terraform-aws-repo-crawler\"},\"payload\":{\"repository_id\":564475909,\"push_id\":19261452947,\"size\":1,\"distinct_size\":1,\"ref\":\"refs/heads/main\",\"head\":\"f06b94df1a9f78bac349ab4e1eea2982d3d9c168\",\"before\":\"5c82f3cc4d8076d35cb47098ab83d7d39ca609bf\",\"commits\":[{\"sha\":\"f06b94df1a9f78bac349ab4e1eea2982d3d9c168\",\"author\":{\"email\":\"2077508+jrich523@users.noreply.github.com\",\"name\":\"Justin Rich\"},\"message\":\"change deployment approach (#12)\\\\n\\\\n* change deployment approach\\\\r\\\\n\\\\r\\\\n* minor corrections\",\"distinct\":true,\"url\":\"https://api.github.com/repos/cyralinc/terraform-aws-repo-crawler/commits/f06b94df1a9f78bac349ab4e1eea2982d3d9c168\"}]},\"public\":true,\"created_at\":\"2024-07-10T18:28:16Z\",\"org\":{\"id\":45083093,\"login\":\"cyralinc\",\"gravatar_id\":\"\",\"url\":\"https://api.github.com/orgs/cyralinc\",\"avatar_url\":\"https://avatars.githubusercontent.com/u/45083093?\"}},{\"id\":\"40038351126\",\"type\":\"CreateEvent\",\"actor\":{\"id\":29139614,\"login\":\"renovate[bot]\",\"display_login\":\"renovate\",\"gravatar_id\":\"\",\"url\":\"https://api.github.com/users/renovate[bot]\",\"avatar_url\":\"https://avatars.githubusercontent.com/u/29139614?\"},\"repo\":{\"id\":800244379,\"name\":\"soenneker/soenneker.ipqs.phone\",\"url\":\"https://api.github.com/repos/soenneker/soenneker.ipqs.phone\"},\"payload\":{\"ref\":\"renovate/soenneker.tests.fixturedunit-2.x\",\"ref_type\":\"branch\",\"master_branch\":\"main\",\"description\":\"A utility library for IPQualityScore phone related operations\",\"pusher_type\":\"user\"},\"public\":true,\"created_at\":\"2024-07-10T18:28:16Z\"},{\"id\":\"40038351106\",\"type\":\"PushEvent\",\"actor\":{\"id\":41898282,\"login\":\"github-actions[bot]\",\"display_login\":\"github-actions\",\"gravatar_id\":\"\",\"url\":\"https://api.github.com/users/github-actions[bot]\",\"avatar_url\":\"https://avatars.githubusercontent.com/u/41898282?\"},\"repo\":{\"id\":670341824,\"name\":\"ecomplus-stores/lesbains\",\"url\":\"https://api.github.com/repos/ecomplus-stores/lesbains\"},\"payload\":{\"repository_id\":670341824,\"push_id\":19261452941,\"size\":1,\"distinct_size\":1,\"ref\":\"refs/heads/dist\",\"head\":\"3813a9d9c2bb772b747e614facf42bfcf4664eea\",\"before\":\"9841de0c27ce4e7bfaefc58b6659b95e365ec245\",\"commits\":[{\"sha\":\"3813a9d9c2bb772b747e614facf42bfcf4664eea\",\"author\":{\"email\":\"e-com-plus-storefront[bot]@users.noreply.github.com\",\"name\":\"e-com-plus-storefront[bot]\"},\"message\":\"Deploying to dist from  @ ca3bceec9f7d54c3cc2d676ab279cf6d31c836fc 🚀\",\"distinct\":true,\"url\":\"https://api.github.com/repos/ecomplus-stores/lesbains/commits/3813a9d9c2bb772b747e614facf42bfcf4664eea\"}]},\"public\":true,\"created_at\":\"2024-07-10T18:28:16Z\",\"org\":{\"id\":60275007,\"login\":\"ecomplus-stores\",\"gravatar_id\":\"\",\"url\":\"https://api.github.com/orgs/ecomplus-stores\",\"avatar_url\":\"https://avatars.githubusercontent.com/u/60275007?\"}},{\"id\":\"40038351088\",\"type\":\"PushEvent\",\"actor\":{\"id\":41898282,\"login\":\"github-actions[bot]\",\"display_login\":\"github-actions\",\"gravatar_id\":\"\",\"url\":\"https://api.github.com/users/github-actions[bot]\",\"avatar_url\":\"https://avatars.githubusercontent.com/u/41898282?\"},\"repo\":{\"id\":664262116,\"name\":\"fadhlidev/greening\",\"url\":\"https://api.github.com/repos/fadhlidev/greening\"},\"payload\":{\"repository_id\":664262116,\"push_id\":19261452936,\"size\":1,\"distinct_size\":1,\"ref\":\"refs/heads/main\",\"head\":\"e618859e0c9a8e7d45a5da77bfa3d2a3b4c8d5e5\",\"before\":\"3af4f5c5f8c393943c439a2371aaea53e1839a3a\",\"commits\":[{\"sha\":\"e618859e0c9a8e7d45a5da77bfa3d2a3b4c8d5e5\",\"author\":{\"email\":\"me@fadhli.dev\",\"name\":\"fadhlidev\"},\"message\":\"Jul 10, 2024 18:28:14\",\"distinct\":true,\"url\":\"https://api.github.com/repos/fadhlidev/greening/commits/e618859e0c9a8e7d45a5da77bfa3d2a3b4c8d5e5\"}]},\"public\":true,\"created_at\":\"2024-07-10T18:28:16Z\"},{\"id\":\"40038351115\",\"type\":\"IssueCommentEvent\",\"actor\":{\"id\":38984069,\"login\":\"xueqzhan\",\"display_login\":\"xueqzhan\",\"gravatar_id\":\"\",\"url\":\"https://api.github.com/users/xueqzhan\",\"avatar_url\":\"https://avatars.githubusercontent.com/u/38984069?\"},\"repo\":{\"id\":75224144,\"name\":\"openshift/release\",\"url\":\"https://api.github.com/repos/openshift/release\"},\"payload\":{\"action\":\"created\",\"issue\":{\"url\":\"https://api.github.com/repos/openshift/release/issues/52636\",\"repository_url\":\"https://api.github.com/repos/openshift/release\",\"labels_url\":\"https://api.github.com/repos/openshift/release/issues/52636/labels{/name}\",\"comments_url\":\"https://api.github.com/repos/openshift/release/issues/52636/comments\",\"events_url\":\"https://api.github.com/repos/openshift/release/issues/52636/events\",\"html_url\":\"https://github.com/openshift/release/pull/52636\",\"id\":2326393865,\"node_id\":\"PR_kwDOBHvUUM5xDM16\",\"number\":52636,\"title\":\"vSphere UPI on VCM\",\"user\":{\"login\":\"rvanderp3\",\"id\":49568690,\"node_id\":\"MDQ6VXNlcjQ5NTY4Njkw\",\"avatar_url\":\"https://avatars.githubusercontent.com/u/49568690?v=4\",\"gravatar_id\":\"\",\"url\":\"https://api.github.com/users/rvanderp3\",\"html_url\":\"https://github.com/rvanderp3\",\"followers_url\":\"https://api.github.com/users/rvanderp3/followers\",\"following_url\":\"https://api.github.com/users/rvanderp3/following{/other_user}\",\"gists_url\":\"https://api.github.com/users/rvanderp3/gists{/gist_id}\",\"starred_url\":\"https://api.github.com/users/rvanderp3/starred{/owner}{/repo}\",\"subscriptions_url\":\"https://api.github.com/users/rvanderp3/subscriptions\",\"organizations_url\":\"https://api.github.com/users/rvanderp3/orgs\",\"repos_url\":\"https://api.github.com/users/rvanderp3/repos\",\"events_url\":\"https://api.github.com/users/rvanderp3/events{/privacy}\",\"received_events_url\":\"https://api.github.com/users/rvanderp3/received_events\",\"type\":\"User\",\"site_admin\":false},\"labels\":[{\"id\":686552147,\"node_id\":\"MDU6TGFiZWw2ODY1NTIxNDc=\",\"url\":\"https://api.github.com/repos/openshift/release/labels/lgtm\",\"name\":\"lgtm\",\"color\":\"15dd18\",\"default\":false,\"description\":\"Indicates that a PR is ready to be merged.\"}],\"state\":\"open\",\"locked\":false,\"assignee\":{\"login\":\"sdodson\",\"id\":48161,\"node_id\":\"MDQ6VXNlcjQ4MTYx\",\"avatar_url\":\"https://avatars.githubusercontent.com/u/48161?v=4\",\"gravatar_id\":\"\",\"url\":\"https://api.github.com/users/sdodson\",\"html_url\":\"https://github.com/sdodson\",\"followers_url\":\"https://api.github.com/users/sdodson/followers\",\"following_url\":\"https://api.github.com/users/sdodson/following{/other_user}\",\"gists_url\":\"https://api.github.com/users/sdodson/gists{/gist_id}\",\"starred_url\":\"https://api.github.com/users/sdodson/starred{/owner}{/repo}\",\"subscriptions_url\":\"https://api.github.com/users/sdodson/subscriptions\",\"organizations_url\":\"https://api.github.com/users/sdodson/orgs\",\"repos_url\":\"https://api.github.com/users/sdodson/repos\",\"events_url\":\"https://api.github.com/users/sdodson/events{/privacy}\",\"received_events_url\":\"https://api.github.com/users/sdodson/received_events\",\"type\":\"User\",\"site_admin\":false},\"assignees\":[{\"login\":\"sdodson\",\"id\":48161,\"node_id\":\"MDQ6VXNlcjQ4MTYx\",\"avatar_url\":\"https://avatars.githubusercontent.com/u/48161?v=4\",\"gravatar_id\":\"\",\"url\":\"https://api.github.com/users/sdodson\",\"html_url\":\"https://github.com/sdodson\",\"followers_url\":\"https://api.github.com/users/sdodson/followers\",\"following_url\":\"https://api.github.com/users/sdodson/following{/other_user}\",\"gists_url\":\"https://api.github.com/users/sdodson/gists{/gist_id}\",\"starred_url\":\"https://api.github.com/users/sdodson/starred{/owner}{/repo}\",\"subscriptions_url\":\"https://api.github.com/users/sdodson/subscriptions\",\"organizations_url\":\"https://api.github.com/users/sdodson/orgs\",\"repos_url\":\"https://api.github.com/users/sdodson/repos\",\"events_url\":\"https://api.github.com/users/sdodson/events{/privacy}\",\"received_events_url\":\"https://api.github.com/users/sdodson/received_events\",\"type\":\"User\",\"site_admin\":false},{\"login\":\"jianlinliu\",\"id\":1628898,\"node_id\":\"MDQ6VXNlcjE2Mjg4OTg=\",\"avatar_url\":\"https://avatars.githubusercontent.com/u/1628898?v=4\",\"gravatar_id\":\"\",\"url\":\"https://api.github.com/users/jianlinliu\",\"html_url\":\"https://github.com/jianlinliu\",\"followers_url\":\"https://api.github.com/users/jianlinliu/followers\",\"following_url\":\"https://api.github.com/users/jianlinliu/following{/other_user}\",\"gists_url\":\"https://api.github.com/users/jianlinliu/gists{/gist_id}\",\"starred_url\":\"https://api.github.com/users/jianlinliu/starred{/owner}{/repo}\",\"subscriptions_url\":\"https://api.github.com/users/jianlinliu/subscriptions\",\"organizations_url\":\"https://api.github.com/users/jianlinliu/orgs\",\"repos_url\":\"https://api.github.com/users/jianlinliu/repos\",\"events_url\":\"https://api.github.com/users/jianlinliu/events{/privacy}\",\"received_events_url\":\"https://api.github.com/users/jianlinliu/received_events\",\"type\":\"User\",\"site_admin\":false},{\"login\":\"jhou1\",\"id\":2202520,\"node_id\":\"MDQ6VXNlcjIyMDI1MjA=\",\"avatar_url\":\"https://avatars.githubusercontent.com/u/2202520?v=4\",\"gravatar_id\":\"\",\"url\":\"https://api.github.com/users/jhou1\",\"html_url\":\"https://github.com/jhou1\",\"followers_url\":\"https://api.github.com/users/jhou1/followers\",\"following_url\":\"https://api.github.com/users/jhou1/following{/other_user}\",\"gists_url\":\"https://api.github.com/users/jhou1/gists{/gist_id}\",\"starred_url\":\"https://api.github.com/users/jhou1/starred{/owner}{/repo}\",\"subscriptions_url\":\"https://api.github.com/users/jhou1/subscriptions\",\"organizations_url\":\"https://api.github.com/users/jhou1/orgs\",\"repos_url\":\"https://api.github.com/users/jhou1/repos\",\"events_url\":\"https://api.github.com/users/jhou1/events{/privacy}\",\"received_events_url\":\"https://api.github.com/users/jhou1/received_events\",\"type\":\"User\",\"site_admin\":false},{\"login\":\"jluhrsen\",\"id\":3209625,\"node_id\":\"MDQ6VXNlcjMyMDk2MjU=\",\"avatar_url\":\"https://avatars.githubusercontent.com/u/3209625?v=4\",\"gravatar_id\":\"\",\"url\":\"https://api.github.com/users/jluhrsen\",\"html_url\":\"https://github.com/jluhrsen\",\"followers_url\":\"https://api.github.com/users/jluhrsen/followers\",\"following_url\":\"https://api.github.com/users/jluhrsen/following{/other_user}\",\"gists_url\":\"https://api.github.com/users/jluhrsen/gists{/gist_id}\",\"starred_url\":\"https://api.github.com/users/jluhrsen/starred{/owner}{/repo}\",\"subscriptions_url\":\"https://api.github.com/users/jluhrsen/subscriptions\",\"organizations_url\":\"https://api.github.com/users/jluhrsen/orgs\",\"repos_url\":\"https://api.github.com/users/jluhrsen/repos\",\"events_url\":\"https://api.github.com/users/jluhrsen/events{/privacy}\",\"received_events_url\":\"https://api.github.com/users/jluhrsen/received_events\",\"type\":\"User\",\"site_admin\":false},{\"login\":\"jcpowermac\",\"id\":5401402,\"node_id\":\"MDQ6VXNlcjU0MDE0MDI=\",\"avatar_url\":\"https://avatars.githubusercontent.com/u/5401402?v=4\",\"gravatar_id\":\"\",\"url\":\"https://api.github.com/users/jcpowermac\",\"html_url\":\"https://github.com/jcpowermac\",\"followers_url\":\"https://api.github.com/users/jcpowermac/followers\",\"following_url\":\"https://api.github.com/users/jcpowermac/following{/other_user}\",\"gists_url\":\"https://api.github.com/users/jcpowermac/gists{/gist_id}\",\"starred_url\":\"https://api.github.com/users/jcpowermac/starred{/owner}{/repo}\",\"subscriptions_url\":\"https://api.github.com/users/jcpowermac/subscriptions\",\"organizations_url\":\"https://api.github.com/users/jcpowermac/orgs\",\"repos_url\":\"https://api.github.com/users/jcpowermac/repos\",\"events_url\":\"https://api.github.com/users/jcpowermac/events{/privacy}\",\"received_events_url\":\"https://api.github.com/users/jcpowermac/received_events\",\"type\":\"User\",\"site_admin\":false},{\"login\":\"sebsoto\",\"id\":9519714,\"node_id\":\"MDQ6VXNlcjk1MTk3MTQ=\",\"avatar_url\":\"https://avatars.githubusercontent.com/u/9519714?v=4\",\"gravatar_id\":\"\",\"url\":\"https://api.github.com/users/sebsoto\",\"html_url\":\"https://github.com/sebsoto\",\"followers_url\":\"https://api.github.com/users/sebsoto/followers\",\"following_url\":\"https://api.github.com/users/sebsoto/following{/other_user}\",\"gists_url\":\"https://api.github.com/users/sebsoto/gists{/gist_id}\",\"starred_url\":\"https://api.github.com/users/sebsoto/starred{/owner}{/repo}\",\"subscriptions_url\":\"https://api.github.com/users/sebsoto/subscriptions\",\"organizations_url\":\"https://api.github.com/users/sebsoto/orgs\",\"repos_url\":\"https://api.github.com/users/sebsoto/repos\",\"events_url\":\"https://api.github.com/users/sebsoto/events{/privacy}\",\"received_events_url\":\"https://api.github.com/users/sebsoto/received_events\",\"type\":\"User\",\"site_admin\":false},{\"login\":\"eliorerz\",\"id\":16567084,\"node_id\":\"MDQ6VXNlcjE2NTY3MDg0\",\"avatar_url\":\"https://avatars.githubusercontent.com/u/16567084?v=4\",\"gravatar_id\":\"\",\"url\":\"https://api.github.com/users/eliorerz\",\"html_url\":\"https://github.com/eliorerz\",\"followers_url\":\"https://api.github.com/users/eliorerz/followers\",\"following_url\":\"https://api.github.com/users/eliorerz/following{/other_user}\",\"gists_url\":\"https://api.github.com/users/eliorerz/gists{/gist_id}\",\"starred_url\":\"https://api.github.com/users/eliorerz/starred{/owner}{/repo}\",\"subscriptions_url\":\"https://api.github.com/users/eliorerz/subscriptions\",\"organizations_url\":\"https://api.github.com/users/eliorerz/orgs\",\"repos_url\":\"https://api.github.com/users/eliorerz/repos\",\"events_url\":\"https://api.github.com/users/eliorerz/events{/privacy}\",\"received_events_url\":\"https://api.github.com/users/eliorerz/received_events\",\"type\":\"User\",\"site_admin\":false},{\"login\":\"xueqzhan\",\"id\":38984069,\"node_id\":\"MDQ6VXNlcjM4OTg0MDY5\",\"avatar_url\":\"https://avatars.githubusercontent.com/u/38984069?v=4\",\"gravatar_id\":\"\",\"url\":\"https://api.github.com/users/xueqzhan\",\"html_url\":\"https://github.com/xueqzhan\",\"followers_url\":\"https://api.github.com/users/xueqzhan/followers\",\"following_url\":\"https://api.github.com/users/xueqzhan/following{/other_user}\",\"gists_url\":\"https://api.github.com/users/xueqzhan/gists{/gist_id}\",\"starred_url\":\"https://api.github.com/users/xueqzhan/starred{/owner}{/repo}\",\"subscriptions_url\":\"https://api.github.com/users/xueqzhan/subscriptions\",\"organizations_url\":\"https://api.github.com/users/xueqzhan/orgs\",\"repos_url\":\"https://api.github.com/users/xueqzhan/repos\",\"events_url\":\"https://api.github.com/users/xueqzhan/events{/privacy}\",\"received_events_url\":\"https://api.github.com/users/xueqzhan/received_events\",\"type\":\"User\",\"site_admin\":false},{\"login\":\"vr4manta\",\"id\":45597105,\"node_id\":\"MDQ6VXNlcjQ1NTk3MTA1\",\"avatar_url\":\"https://avatars.githubusercontent.com/u/45597105?v=4\",\"gravatar_id\":\"\",\"url\":\"https://api.github.com/users/vr4manta\",\"html_url\":\"https://github.com/vr4manta\",\"followers_url\":\"https://api.github.com/users/vr4manta/followers\",\"following_url\":\"https://api.github.com/users/vr4manta/following{/other_user}\",\"gists_url\":\"https://api.github.com/users/vr4manta/gists{/gist_id}\",\"starred_url\":\"https://api.github.com/users/vr4manta/starred{/owner}{/repo}\",\"subscriptions_url\":\"https://api.github.com/users/vr4manta/subscriptions\",\"organizations_url\":\"https://api.github.com/users/vr4manta/orgs\",\"repos_url\":\"https://api.github.com/users/vr4manta/repos\",\"events_url\":\"https://api.github.com/users/vr4manta/events{/privacy}\",\"received_events_url\":\"https://api.github.com/users/vr4manta/received_events\",\"type\":\"User\",\"site_admin\":false}],\"milestone\":null,\"comments\":191,\"created_at\":\"2024-05-30T19:22:12Z\",\"updated_at\":\"2024-07-10T18:28:15Z\",\"closed_at\":null,\"author_association\":\"CONTRIBUTOR\",\"active_lock_reason\":null,\"draft\":false,\"pull_request\":{\"url\":\"https://api.github.com/repos/openshift/release/pulls/52636\",\"html_url\":\"https://github.com/openshift/release/pull/52636\",\"diff_url\":\"https://github.com/openshift/release/pull/52636.diff\",\"patch_url\":\"https://github.com/openshift/release/pull/52636.patch\",\"merged_at\":null},\"body\":null,\"reactions\":{\"url\":\"https://api.github.com/repos/openshift/release/issues/52636/reactions\",\"total_count\":1,\"+1\":0,\"-1\":0,\"laugh\":0,\"hooray\":0,\"confused\":0,\"heart\":1,\"rocket\":0,\"eyes\":0},\"timeline_url\":\"https://api.github.com/repos/openshift/release/issues/52636/timeline\",\"performed_via_github_app\":null,\"state_reason\":null},\"comment\":{\"url\":\"https://api.github.com/repos/openshift/release/issues/comments/2221173874\",\"html_url\":\"https://github.com/openshift/release/pull/52636#issuecomment-2221173874\",\"issue_url\":\"https://api.github.com/repos/openshift/release/issues/52636\",\"id\":2221173874,\"node_id\":\"IC_kwDOBHvUUM6EZGxy\",\"user\":{\"login\":\"xueqzhan\",\"id\":38984069,\"node_id\":\"MDQ6VXNlcjM4OTg0MDY5\",\"avatar_url\":\"https://avatars.githubusercontent.com/u/38984069?v=4\",\"gravatar_id\":\"\",\"url\":\"https://api.github.com/users/xueqzhan\",\"html_url\":\"https://github.com/xueqzhan\",\"followers_url\":\"https://api.github.com/users/xueqzhan/followers\",\"following_url\":\"https://api.github.com/users/xueqzhan/following{/other_user}\",\"gists_url\":\"https://api.github.com/users/xueqzhan/gists{/gist_id}\",\"starred_url\":\"https://api.github.com/users/xueqzhan/starred{/owner}{/repo}\",\"subscriptions_url\":\"https://api.github.com/users/xueqzhan/subscriptions\",\"organizations_url\":\"https://api.github.com/users/xueqzhan/orgs\",\"repos_url\":\"https://api.github.com/users/xueqzhan/repos\",\"events_url\":\"https://api.github.com/users/xueqzhan/events{/privacy}\",\"received_events_url\":\"https://api.github.com/users/xueqzhan/received_events\",\"type\":\"User\",\"site_admin\":false},\"created_at\":\"2024-07-10T18:28:15Z\",\"updated_at\":\"2024-07-10T18:28:15Z\",\"author_association\":\"CONTRIBUTOR\",\"body\":\"/lgtm\",\"reactions\":{\"url\":\"https://api.github.com/repos/openshift/release/issues/comments/2221173874/reactions\",\"total_count\":0,\"+1\":0,\"-1\":0,\"laugh\":0,\"hooray\":0,\"confused\":0,\"heart\":0,\"rocket\":0,\"eyes\":0},\"performed_via_github_app\":null}},\"public\":true,\"created_at\":\"2024-07-10T18:28:16Z\",\"org\":{\"id\":792337,\"login\":\"openshift\",\"gravatar_id\":\"\",\"url\":\"https://api.github.com/orgs/openshift\",\"avatar_url\":\"https://avatars.githubusercontent.com/u/792337?\"}},{\"id\":\"40038351083\",\"type\":\"PushEvent\",\"actor\":{\"id\":66853113,\"login\":\"pre-commit-ci[bot]\",\"display_login\":\"pre-commit-ci\",\"gravatar_id\":\"\",\"url\":\"https://api.github.com/users/pre-commit-ci[bot]\",\"avatar_url\":\"https://avatars.githubusercontent.com/u/66853113?\"},\"repo\":{\"id\":515668556,\"name\":\"catalystneuro/neuroconv\",\"url\":\"https://api.github.com/repos/catalystneuro/neuroconv\"},\"payload\":{\"repository_id\":515668556,\"push_id\":19261452929,\"size\":1,\"distinct_size\":1,\"ref\":\"refs/heads/port_dlc2nwb\",\"head\":\"4d3f422dbaa4d3aa1b654400d898094b15116f48\",\"before\":\"e09a4fa466dcf1fab6000a37c8c2b882afb25c55\",\"commits\":[{\"sha\":\"4d3f422dbaa4d3aa1b654400d898094b15116f48\",\"author\":{\"email\":\"66853113+pre-commit-ci[bot]@users.noreply.github.com\",\"name\":\"pre-commit-ci[bot]\"},\"message\":\"[pre-commit.ci] auto fixes from pre-commit.com hooks\\\\n\\\\nfor more information, see https://pre-commit.ci\",\"distinct\":true,\"url\":\"https://api.github.com/repos/catalystneuro/neuroconv/commits/4d3f422dbaa4d3aa1b654400d898094b15116f48\"}]},\"public\":true,\"created_at\":\"2024-07-10T18:28:16Z\",\"org\":{\"id\":53279280,\"login\":\"catalystneuro\",\"gravatar_id\":\"\",\"url\":\"https://api.github.com/orgs/catalystneuro\",\"avatar_url\":\"https://avatars.githubusercontent.com/u/53279280?\"}},{\"id\":\"40038351094\",\"type\":\"PushEvent\",\"actor\":{\"id\":41898282,\"login\":\"github-actions[bot]\",\"display_login\":\"github-actions\",\"gravatar_id\":\"\",\"url\":\"https://api.github.com/users/github-actions[bot]\",\"avatar_url\":\"https://avatars.githubusercontent.com/u/41898282?\"},\"repo\":{\"id\":423601026,\"name\":\"engineerturph/engineerturph\",\"url\":\"https://api.github.com/repos/engineerturph/engineerturph\"},\"payload\":{\"repository_id\":423601026,\"push_id\":19261452948,\"size\":1,\"distinct_size\":1,\"ref\":\"refs/heads/main\",\"head\":\"54c3abb56e16b6d16b294c14350720e8e30c0d6e\",\"before\":\"e12eb886c2105eb0376cc8136e4e5c6658fc4ba5\",\"commits\":[{\"sha\":\"54c3abb56e16b6d16b294c14350720e8e30c0d6e\",\"author\":{\"email\":\"github-actions@github.com\",\"name\":\"github-actions\"},\"message\":\"generated\",\"distinct\":true,\"url\":\"https://api.github.com/repos/engineerturph/engineerturph/commits/54c3abb56e16b6d16b294c14350720e8e30c0d6e\"}]},\"public\":true,\"created_at\":\"2024-07-10T18:28:16Z\"},{\"id\":\"40038351087\",\"type\":\"PushEvent\",\"actor\":{\"id\":41898282,\"login\":\"github-actions[bot]\",\"display_login\":\"github-actions\",\"gravatar_id\":\"\",\"url\":\"https://api.github.com/users/github-actions[bot]\",\"avatar_url\":\"https://avatars.githubusercontent.com/u/41898282?\"},\"repo\":{\"id\":795163888,\"name\":\"omegion1npm/eveniet-nobis-repellendus\",\"url\":\"https://api.github.com/repos/omegion1npm/eveniet-nobis-repellendus\"},\"payload\":{\"repository_id\":795163888,\"push_id\":19261452939,\"size\":1,\"distinct_size\":1,\"ref\":\"refs/heads/main\",\"head\":\"de9d34f5418ad10f6e18ac3e1c91fa39563d6b2c\",\"before\":\"3f9e8a0d052f60d8e978aded7cf16dd27d0cef51\",\"commits\":[{\"sha\":\"de9d34f5418ad10f6e18ac3e1c91fa39563d6b2c\",\"author\":{\"email\":\"omegion1@users.noreply.github.com\",\"name\":\"omegion1\"},\"message\":\"Code feature beretu code noca lamolit mibecupemu maderuj par commit.\",\"distinct\":true,\"url\":\"https://api.github.com/repos/omegion1npm/eveniet-nobis-repellendus/commits/de9d34f5418ad10f6e18ac3e1c91fa39563d6b2c\"}]},\"public\":true,\"created_at\":\"2024-07-10T18:28:16Z\",\"org\":{\"id\":167519668,\"login\":\"omegion1npm\",\"gravatar_id\":\"\",\"url\":\"https://api.github.com/orgs/omegion1npm\",\"avatar_url\":\"https://avatars.githubusercontent.com/u/167519668?\"}},{\"id\":\"40038351085\",\"type\":\"PushEvent\",\"actor\":{\"id\":41898282,\"login\":\"github-actions[bot]\",\"display_login\":\"github-actions\",\"gravatar_id\":\"\",\"url\":\"https://api.github.com/users/github-actions[bot]\",\"avatar_url\":\"https://avatars.githubusercontent.com/u/41898282?\"},\"repo\":{\"id\":665668514,\"name\":\"LSB30/LSB30\",\"url\":\"https://api.github.com/repos/LSB30/LSB30\"},\"payload\":{\"repository_id\":665668514,\"push_id\":19261452944,\"size\":1,\"distinct_size\":1,\"ref\":\"refs/heads/output\",\"head\":\"6bf6a109dd098a59567c622ef7faa4f592a110ab\",\"before\":\"e14cb11d28e3d22132b668134896666b9d35fc5d\",\"commits\":[{\"sha\":\"6bf6a109dd098a59567c622ef7faa4f592a110ab\",\"author\":{\"email\":\"41898282+github-actions[bot]@users.noreply.github.com\",\"name\":\"github-actions[bot]\"},\"message\":\"Deploy to GitHub pages\",\"distinct\":true,\"url\":\"https://api.github.com/repos/LSB30/LSB30/commits/6bf6a109dd098a59567c622ef7faa4f592a110ab\"}]},\"public\":true,\"created_at\":\"2024-07-10T18:28:16Z\"},{\"id\":\"40038351076\",\"type\":\"PushEvent\",\"actor\":{\"id\":41898282,\"login\":\"github-actions[bot]\",\"display_login\":\"github-actions\",\"gravatar_id\":\"\",\"url\":\"https://api.github.com/users/github-actions[bot]\",\"avatar_url\":\"https://avatars.githubusercontent.com/u/41898282?\"},\"repo\":{\"id\":672468547,\"name\":\"alihusainsorathiya/TelegramV2rayCollector\",\"url\":\"https://api.github.com/repos/alihusainsorathiya/TelegramV2rayCollector\"},\"payload\":{\"repository_id\":672468547,\"push_id\":19261452927,\"size\":1,\"distinct_size\":1,\"ref\":\"refs/heads/main\",\"head\":\"5f3427b5612bae27f49c721e02a922a1f07c4bbd\",\"before\":\"83e1e11fcc5f039225c7e518ecb27a052d86bef0\",\"commits\":[{\"sha\":\"5f3427b5612bae27f49c721e02a922a1f07c4bbd\",\"author\":{\"email\":\"yebekhe@gmail.com\",\"name\":\"yebekhe\"},\"message\":\"🚀 Servers Updated - 2024-07-10 21:58:14\",\"distinct\":true,\"url\":\"https://api.github.com/repos/alihusainsorathiya/TelegramV2rayCollector/commits/5f3427b5612bae27f49c721e02a922a1f07c4bbd\"}]},\"public\":true,\"created_at\":\"2024-07-10T18:28:16Z\"},{\"id\":\"40038351057\",\"type\":\"PushEvent\",\"actor\":{\"id\":41898282,\"login\":\"github-actions[bot]\",\"display_login\":\"github-actions\",\"gravatar_id\":\"\",\"url\":\"https://api.github.com/users/github-actions[bot]\",\"avatar_url\":\"https://avatars.githubusercontent.com/u/41898282?\"},\"repo\":{\"id\":672726356,\"name\":\"Jayzhuoct/Jayzhuoct\",\"url\":\"https://api.github.com/repos/Jayzhuoct/Jayzhuoct\"},\"payload\":{\"repository_id\":672726356,\"push_id\":19261452919,\"size\":1,\"distinct_size\":1,\"ref\":\"refs/heads/main\",\"head\":\"c2a0437fa53b1522efad70f88aabf7a488d3855d\",\"before\":\"df491c021a60eed73fc644b0894a3d0a7253fc11\",\"commits\":[{\"sha\":\"c2a0437fa53b1522efad70f88aabf7a488d3855d\",\"author\":{\"email\":\"41898282+github-actions[bot]@users.noreply.github.com\",\"name\":\"github-actions[bot]\"},\"message\":\"Update github-metrics/calendar.full.svg - [Skip GitHub Action]\",\"distinct\":true,\"url\":\"https://api.github.com/repos/Jayzhuoct/Jayzhuoct/commits/c2a0437fa53b1522efad70f88aabf7a488d3855d\"}]},\"public\":true,\"created_at\":\"2024-07-10T18:28:16Z\"},{\"id\":\"40038351059\",\"type\":\"PushEvent\",\"actor\":{\"id\":33961923,\"login\":\"davidadc\",\"display_login\":\"davidadc\",\"gravatar_id\":\"\",\"url\":\"https://api.github.com/users/davidadc\",\"avatar_url\":\"https://avatars.githubusercontent.com/u/33961923?\"},\"repo\":{\"id\":809972989,\"name\":\"Crazy-Imagine/cis-landing\",\"url\":\"https://api.github.com/repos/Crazy-Imagine/cis-landing\"},\"payload\":{\"repository_id\":809972989,\"push_id\":19261452915,\"size\":2,\"distinct_size\":1,\"ref\":\"refs/heads/main\",\"head\":\"788cb33c0b77f661cda662d16960a1a202a93928\",\"before\":\"813cb86a2502dd03dc1cc6ff8ae6a7427dbb5c10\",\"commits\":[{\"sha\":\"bcbf723f77924760899aff87acb25d4708e264ce\",\"author\":{\"email\":\"delgadoch.david@gmail.com\",\"name\":\"David Delgado\"},\"message\":\"hotfix: contact us link and center\",\"distinct\":false,\"url\":\"https://api.github.com/repos/Crazy-Imagine/cis-landing/commits/bcbf723f77924760899aff87acb25d4708e264ce\"},{\"sha\":\"788cb33c0b77f661cda662d16960a1a202a93928\",\"author\":{\"email\":\"33961923+davidadc@users.noreply.github.com\",\"name\":\"David Delgado\"},\"message\":\"Merge pull request #19 from Crazy-Imagine/dev\\\\n\\\\nDEPLOY: Contact Us Link on Pricing Plans\",\"distinct\":true,\"url\":\"https://api.github.com/repos/Crazy-Imagine/cis-landing/commits/788cb33c0b77f661cda662d16960a1a202a93928\"}]},\"public\":true,\"created_at\":\"2024-07-10T18:28:16Z\",\"org\":{\"id\":67290665,\"login\":\"Crazy-Imagine\",\"gravatar_id\":\"\",\"url\":\"https://api.github.com/orgs/Crazy-Imagine\",\"avatar_url\":\"https://avatars.githubusercontent.com/u/67290665?\"}}]'"
      ]
     },
     "execution_count": 17,
     "metadata": {},
     "output_type": "execute_result"
    }
   ],
   "source": [
    "r.text"
   ]
  },
  {
   "cell_type": "code",
   "execution_count": 21,
   "metadata": {},
   "outputs": [],
   "source": [
    "headers = {'X-GitHub-Api-Version': '2022-11-28'}"
   ]
  },
  {
   "cell_type": "markdown",
   "metadata": {},
   "source": [
    "Definindo a url base e owner de onde vamos extrair os dados"
   ]
  },
  {
   "cell_type": "code",
   "execution_count": 22,
   "metadata": {},
   "outputs": [],
   "source": [
    "api_base_url = 'https://api.github.com'\n",
    "owner = 'amzn'\n",
    "url = f'{api_base_url}/users/{owner}/repos'"
   ]
  },
  {
   "cell_type": "code",
   "execution_count": 23,
   "metadata": {},
   "outputs": [
    {
     "data": {
      "text/plain": [
       "'https://api.github.com/users/amzn/repos'"
      ]
     },
     "execution_count": 23,
     "metadata": {},
     "output_type": "execute_result"
    }
   ],
   "source": [
    "url"
   ]
  },
  {
   "cell_type": "code",
   "execution_count": 24,
   "metadata": {},
   "outputs": [
    {
     "data": {
      "text/plain": [
       "200"
      ]
     },
     "execution_count": 24,
     "metadata": {},
     "output_type": "execute_result"
    }
   ],
   "source": [
    "response = requests.get(url, headers=headers)\n",
    "response.status_code"
   ]
  },
  {
   "cell_type": "code",
   "execution_count": 26,
   "metadata": {},
   "outputs": [
    {
     "data": {
      "text/plain": [
       "30"
      ]
     },
     "execution_count": 26,
     "metadata": {},
     "output_type": "execute_result"
    }
   ],
   "source": [
    "len(response.json())"
   ]
  },
  {
   "cell_type": "markdown",
   "metadata": {},
   "source": [
    "Configurando headers"
   ]
  },
  {
   "cell_type": "code",
   "execution_count": 1,
   "metadata": {},
   "outputs": [],
   "source": [
    "access_token = 'your-api-key'\n",
    "headers = {\n",
    "  'Authorization': 'Bearer ' + access_token, \n",
    "  'X-GitHub-Api-Version': '2022-11-28'\n",
    "}\n"
   ]
  },
  {
   "cell_type": "markdown",
   "metadata": {},
   "source": [
    "Extraindo dados por paginação, obtendo nomes e linguagens dos repositórios"
   ]
  },
  {
   "cell_type": "code",
   "execution_count": 29,
   "metadata": {},
   "outputs": [],
   "source": [
    "repos_list = []\n",
    "for page_num in range(1, 6):\n",
    "  try:\n",
    "    url_page = f'{url}?page={page_num}'\n",
    "    response = requests.get(url_page, headers=headers)\n",
    "    repos_list.append(response.json())\n",
    "  except:\n",
    "    repos_list.append(None)"
   ]
  },
  {
   "cell_type": "code",
   "execution_count": 38,
   "metadata": {},
   "outputs": [
    {
     "data": {
      "text/plain": [
       "'.github'"
      ]
     },
     "execution_count": 38,
     "metadata": {},
     "output_type": "execute_result"
    }
   ],
   "source": [
    "repos_list[0][0].get('name')"
   ]
  },
  {
   "cell_type": "code",
   "execution_count": 50,
   "metadata": {},
   "outputs": [],
   "source": [
    "repos_name = [repo.get('name') for page in repos_list for repo in page]"
   ]
  },
  {
   "cell_type": "code",
   "execution_count": 56,
   "metadata": {},
   "outputs": [
    {
     "data": {
      "text/plain": [
       "['.github',\n",
       " 'ads-advanced-tools-docs',\n",
       " 'ads-pao-amznjs-gtm-template',\n",
       " 'alexa-coho',\n",
       " 'alexa-skills-kit-js']"
      ]
     },
     "execution_count": 56,
     "metadata": {},
     "output_type": "execute_result"
    }
   ],
   "source": [
    "repos_name[:5]"
   ]
  },
  {
   "cell_type": "code",
   "execution_count": 57,
   "metadata": {},
   "outputs": [
    {
     "data": {
      "text/plain": [
       "150"
      ]
     },
     "execution_count": 57,
     "metadata": {},
     "output_type": "execute_result"
    }
   ],
   "source": [
    "len(repos_name)"
   ]
  },
  {
   "cell_type": "code",
   "execution_count": 60,
   "metadata": {},
   "outputs": [],
   "source": [
    "repos_languages = [repo.get('language') for page in repos_list for repo in page]"
   ]
  },
  {
   "cell_type": "code",
   "execution_count": 61,
   "metadata": {},
   "outputs": [
    {
     "data": {
      "text/plain": [
       "[None,\n",
       " 'Jupyter Notebook',\n",
       " 'Smarty',\n",
       " 'JavaScript',\n",
       " None,\n",
       " 'Python',\n",
       " 'PHP',\n",
       " 'Java',\n",
       " 'Python',\n",
       " 'CSS']"
      ]
     },
     "execution_count": 61,
     "metadata": {},
     "output_type": "execute_result"
    }
   ],
   "source": [
    "repos_languages[:10]"
   ]
  },
  {
   "cell_type": "code",
   "execution_count": 62,
   "metadata": {},
   "outputs": [
    {
     "data": {
      "text/plain": [
       "150"
      ]
     },
     "execution_count": 62,
     "metadata": {},
     "output_type": "execute_result"
    }
   ],
   "source": [
    "len(repos_languages)"
   ]
  },
  {
   "cell_type": "markdown",
   "metadata": {},
   "source": [
    "Criando um Dataframe"
   ]
  },
  {
   "cell_type": "code",
   "execution_count": 64,
   "metadata": {},
   "outputs": [],
   "source": [
    "import pandas as pd"
   ]
  },
  {
   "cell_type": "code",
   "execution_count": 69,
   "metadata": {},
   "outputs": [],
   "source": [
    "dados_amz = pd.DataFrame()\n",
    "dados_amz['repository_name'] = repos_name\n",
    "dados_amz['languages'] = repos_languages"
   ]
  },
  {
   "cell_type": "code",
   "execution_count": 66,
   "metadata": {},
   "outputs": [
    {
     "data": {
      "text/html": [
       "<div>\n",
       "<style scoped>\n",
       "    .dataframe tbody tr th:only-of-type {\n",
       "        vertical-align: middle;\n",
       "    }\n",
       "\n",
       "    .dataframe tbody tr th {\n",
       "        vertical-align: top;\n",
       "    }\n",
       "\n",
       "    .dataframe thead th {\n",
       "        text-align: right;\n",
       "    }\n",
       "</style>\n",
       "<table border=\"1\" class=\"dataframe\">\n",
       "  <thead>\n",
       "    <tr style=\"text-align: right;\">\n",
       "      <th></th>\n",
       "      <th>repository_name</th>\n",
       "      <th>languages</th>\n",
       "    </tr>\n",
       "  </thead>\n",
       "  <tbody>\n",
       "    <tr>\n",
       "      <th>0</th>\n",
       "      <td>.github</td>\n",
       "      <td>None</td>\n",
       "    </tr>\n",
       "    <tr>\n",
       "      <th>1</th>\n",
       "      <td>ads-advanced-tools-docs</td>\n",
       "      <td>Jupyter Notebook</td>\n",
       "    </tr>\n",
       "    <tr>\n",
       "      <th>2</th>\n",
       "      <td>ads-pao-amznjs-gtm-template</td>\n",
       "      <td>Smarty</td>\n",
       "    </tr>\n",
       "    <tr>\n",
       "      <th>3</th>\n",
       "      <td>alexa-coho</td>\n",
       "      <td>JavaScript</td>\n",
       "    </tr>\n",
       "    <tr>\n",
       "      <th>4</th>\n",
       "      <td>alexa-skills-kit-js</td>\n",
       "      <td>None</td>\n",
       "    </tr>\n",
       "    <tr>\n",
       "      <th>...</th>\n",
       "      <td>...</td>\n",
       "      <td>...</td>\n",
       "    </tr>\n",
       "    <tr>\n",
       "      <th>145</th>\n",
       "      <td>workspace-resolver</td>\n",
       "      <td>JavaScript</td>\n",
       "    </tr>\n",
       "    <tr>\n",
       "      <th>146</th>\n",
       "      <td>ws-vae</td>\n",
       "      <td>Python</td>\n",
       "    </tr>\n",
       "    <tr>\n",
       "      <th>147</th>\n",
       "      <td>xfer</td>\n",
       "      <td>Python</td>\n",
       "    </tr>\n",
       "    <tr>\n",
       "      <th>148</th>\n",
       "      <td>zeek-plugin-bacnet</td>\n",
       "      <td>Zeek</td>\n",
       "    </tr>\n",
       "    <tr>\n",
       "      <th>149</th>\n",
       "      <td>zeek-plugin-enip</td>\n",
       "      <td>Zeek</td>\n",
       "    </tr>\n",
       "  </tbody>\n",
       "</table>\n",
       "<p>150 rows × 2 columns</p>\n",
       "</div>"
      ],
      "text/plain": [
       "                 repository_name         languages\n",
       "0                        .github              None\n",
       "1        ads-advanced-tools-docs  Jupyter Notebook\n",
       "2    ads-pao-amznjs-gtm-template            Smarty\n",
       "3                     alexa-coho        JavaScript\n",
       "4            alexa-skills-kit-js              None\n",
       "..                           ...               ...\n",
       "145           workspace-resolver        JavaScript\n",
       "146                       ws-vae            Python\n",
       "147                         xfer            Python\n",
       "148           zeek-plugin-bacnet              Zeek\n",
       "149             zeek-plugin-enip              Zeek\n",
       "\n",
       "[150 rows x 2 columns]"
      ]
     },
     "execution_count": 66,
     "metadata": {},
     "output_type": "execute_result"
    }
   ],
   "source": [
    "dados_amz"
   ]
  },
  {
   "cell_type": "markdown",
   "metadata": {},
   "source": [
    "Salvando o dataframe"
   ]
  },
  {
   "cell_type": "code",
   "execution_count": 67,
   "metadata": {},
   "outputs": [],
   "source": [
    "dados_amz.to_csv('amazon.csv')"
   ]
  },
  {
   "cell_type": "markdown",
   "metadata": {},
   "source": [
    "Criando repositório com POST"
   ]
  },
  {
   "cell_type": "code",
   "execution_count": 78,
   "metadata": {},
   "outputs": [
    {
     "data": {
      "text/plain": [
       "'https://api.github.com/user/repos'"
      ]
     },
     "execution_count": 78,
     "metadata": {},
     "output_type": "execute_result"
    }
   ],
   "source": [
    "user_repo_url = f'{api_base_url}/user/repos'\n",
    "user_repo_url"
   ]
  },
  {
   "cell_type": "code",
   "execution_count": 79,
   "metadata": {},
   "outputs": [
    {
     "data": {
      "text/plain": [
       "'https://api.github.com/user/repos'"
      ]
     },
     "execution_count": 79,
     "metadata": {},
     "output_type": "execute_result"
    }
   ],
   "source": [
    "data = {\n",
    "  'name': 'linguagens-utilizadas',\n",
    "  'description': 'Repositório com as linguagens da amazon',\n",
    "  'private': False,\n",
    "}\n",
    "\n",
    "response = requests.post(user_repo_url, headers=headers, json=data)\n",
    "response.url"
   ]
  },
  {
   "cell_type": "markdown",
   "metadata": {},
   "source": [
    "Formato do arquivo"
   ]
  },
  {
   "cell_type": "code",
   "execution_count": 80,
   "metadata": {},
   "outputs": [],
   "source": [
    "import base64"
   ]
  },
  {
   "cell_type": "code",
   "execution_count": 81,
   "metadata": {},
   "outputs": [],
   "source": [
    "with open('amazon.csv', 'rb') as file:\n",
    "  file_content = file.read()\n",
    "\n",
    "encoded_content = base64.b64encode(file_content)"
   ]
  },
  {
   "cell_type": "code",
   "execution_count": 83,
   "metadata": {},
   "outputs": [
    {
     "data": {
      "text/plain": [
       "b'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'"
      ]
     },
     "execution_count": 83,
     "metadata": {},
     "output_type": "execute_result"
    }
   ],
   "source": [
    "encoded_content"
   ]
  },
  {
   "cell_type": "markdown",
   "metadata": {},
   "source": [
    "Upload de arquivo com PUT"
   ]
  },
  {
   "cell_type": "code",
   "execution_count": 2,
   "metadata": {},
   "outputs": [
    {
     "ename": "NameError",
     "evalue": "name 'api_base_url' is not defined",
     "output_type": "error",
     "traceback": [
      "\u001b[0;31m---------------------------------------------------------------------------\u001b[0m",
      "\u001b[0;31mNameError\u001b[0m                                 Traceback (most recent call last)",
      "Cell \u001b[0;32mIn[2], line 5\u001b[0m\n\u001b[1;32m      2\u001b[0m repo \u001b[38;5;241m=\u001b[39m \u001b[38;5;124m'\u001b[39m\u001b[38;5;124mlinguagens-utilizadas\u001b[39m\u001b[38;5;124m'\u001b[39m\n\u001b[1;32m      3\u001b[0m path \u001b[38;5;241m=\u001b[39m \u001b[38;5;124m'\u001b[39m\u001b[38;5;124mamazon.csv\u001b[39m\u001b[38;5;124m'\u001b[39m\n\u001b[0;32m----> 5\u001b[0m url_update \u001b[38;5;241m=\u001b[39m \u001b[38;5;124mf\u001b[39m\u001b[38;5;124m'\u001b[39m\u001b[38;5;132;01m{\u001b[39;00m\u001b[43mapi_base_url\u001b[49m\u001b[38;5;132;01m}\u001b[39;00m\u001b[38;5;124m/repos/\u001b[39m\u001b[38;5;132;01m{\u001b[39;00musername\u001b[38;5;132;01m}\u001b[39;00m\u001b[38;5;124m/\u001b[39m\u001b[38;5;132;01m{\u001b[39;00mrepo\u001b[38;5;132;01m}\u001b[39;00m\u001b[38;5;124m/contents/\u001b[39m\u001b[38;5;132;01m{\u001b[39;00mpath\u001b[38;5;132;01m}\u001b[39;00m\u001b[38;5;124m'\u001b[39m\n\u001b[1;32m      6\u001b[0m url_update\n",
      "\u001b[0;31mNameError\u001b[0m: name 'api_base_url' is not defined"
     ]
    }
   ],
   "source": [
    "username = 'your-username'\n",
    "repo = 'linguagens-utilizadas'\n",
    "path = 'amazon.csv'\n",
    "\n",
    "url_update = f'{api_base_url}/repos/{username}/{repo}/contents/{path}'\n",
    "url_update"
   ]
  },
  {
   "cell_type": "code",
   "execution_count": 85,
   "metadata": {},
   "outputs": [
    {
     "data": {
      "text/plain": [
       "201"
      ]
     },
     "execution_count": 85,
     "metadata": {},
     "output_type": "execute_result"
    }
   ],
   "source": [
    "data = {\n",
    "  'message': 'add new archive',\n",
    "  'content': encoded_content.decode('utf-8')\n",
    "}\n",
    "\n",
    "response = requests.put(url_update, json=data, headers=headers)\n",
    "response.status_code"
   ]
  },
  {
   "cell_type": "code",
   "execution_count": null,
   "metadata": {},
   "outputs": [],
   "source": []
  }
 ],
 "metadata": {
  "kernelspec": {
   "display_name": "venv",
   "language": "python",
   "name": "python3"
  },
  "language_info": {
   "codemirror_mode": {
    "name": "ipython",
    "version": 3
   },
   "file_extension": ".py",
   "mimetype": "text/x-python",
   "name": "python",
   "nbconvert_exporter": "python",
   "pygments_lexer": "ipython3",
   "version": "3.12.3"
  }
 },
 "nbformat": 4,
 "nbformat_minor": 2
}
